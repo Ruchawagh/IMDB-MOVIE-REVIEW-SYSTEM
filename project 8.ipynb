{
 "cells": [
  {
   "cell_type": "code",
   "execution_count": 1,
   "metadata": {},
   "outputs": [],
   "source": [
    "import pandas as pd\n",
    "import numpy as np\n",
    "import matplotlib.pyplot as plt\n",
    "import sklearn\n",
    "import seaborn  as sns"
   ]
  },
  {
   "cell_type": "code",
   "execution_count": 2,
   "metadata": {},
   "outputs": [],
   "source": [
    "df=pd.read_csv('IMDB Dataset.csv')"
   ]
  },
  {
   "cell_type": "code",
   "execution_count": 3,
   "metadata": {},
   "outputs": [
    {
     "data": {
      "text/html": [
       "<div>\n",
       "<style scoped>\n",
       "    .dataframe tbody tr th:only-of-type {\n",
       "        vertical-align: middle;\n",
       "    }\n",
       "\n",
       "    .dataframe tbody tr th {\n",
       "        vertical-align: top;\n",
       "    }\n",
       "\n",
       "    .dataframe thead th {\n",
       "        text-align: right;\n",
       "    }\n",
       "</style>\n",
       "<table border=\"1\" class=\"dataframe\">\n",
       "  <thead>\n",
       "    <tr style=\"text-align: right;\">\n",
       "      <th></th>\n",
       "      <th>review</th>\n",
       "      <th>sentiment</th>\n",
       "    </tr>\n",
       "  </thead>\n",
       "  <tbody>\n",
       "    <tr>\n",
       "      <th>0</th>\n",
       "      <td>One of the other reviewers has mentioned that ...</td>\n",
       "      <td>positive</td>\n",
       "    </tr>\n",
       "    <tr>\n",
       "      <th>1</th>\n",
       "      <td>A wonderful little production. &lt;br /&gt;&lt;br /&gt;The...</td>\n",
       "      <td>positive</td>\n",
       "    </tr>\n",
       "    <tr>\n",
       "      <th>2</th>\n",
       "      <td>I thought this was a wonderful way to spend ti...</td>\n",
       "      <td>positive</td>\n",
       "    </tr>\n",
       "    <tr>\n",
       "      <th>3</th>\n",
       "      <td>Basically there's a family where a little boy ...</td>\n",
       "      <td>negative</td>\n",
       "    </tr>\n",
       "    <tr>\n",
       "      <th>4</th>\n",
       "      <td>Petter Mattei's \"Love in the Time of Money\" is...</td>\n",
       "      <td>positive</td>\n",
       "    </tr>\n",
       "  </tbody>\n",
       "</table>\n",
       "</div>"
      ],
      "text/plain": [
       "                                              review sentiment\n",
       "0  One of the other reviewers has mentioned that ...  positive\n",
       "1  A wonderful little production. <br /><br />The...  positive\n",
       "2  I thought this was a wonderful way to spend ti...  positive\n",
       "3  Basically there's a family where a little boy ...  negative\n",
       "4  Petter Mattei's \"Love in the Time of Money\" is...  positive"
      ]
     },
     "execution_count": 3,
     "metadata": {},
     "output_type": "execute_result"
    }
   ],
   "source": [
    "df.head()"
   ]
  },
  {
   "attachments": {},
   "cell_type": "markdown",
   "metadata": {},
   "source": [
    "### Data Visualization"
   ]
  },
  {
   "cell_type": "code",
   "execution_count": 4,
   "metadata": {},
   "outputs": [
    {
     "data": {
      "text/plain": [
       "'A wonderful little production. <br /><br />The filming technique is very unassuming- very old-time-BBC fashion and gives a comforting, and sometimes discomforting, sense of realism to the entire piece. <br /><br />The actors are extremely well chosen- Michael Sheen not only \"has got all the polari\" but he has all the voices down pat too! You can truly see the seamless editing guided by the references to Williams\\' diary entries, not only is it well worth the watching but it is a terrificly written and performed piece. A masterful production about one of the great master\\'s of comedy and his life. <br /><br />The realism really comes home with the little things: the fantasy of the guard which, rather than use the traditional \\'dream\\' techniques remains solid then disappears. It plays on our knowledge and our senses, particularly with the scenes concerning Orton and Halliwell and the sets (particularly of their flat with Halliwell\\'s murals decorating every surface) are terribly well done.'"
      ]
     },
     "execution_count": 4,
     "metadata": {},
     "output_type": "execute_result"
    }
   ],
   "source": [
    "df['review'][1]"
   ]
  },
  {
   "cell_type": "code",
   "execution_count": 5,
   "metadata": {},
   "outputs": [
    {
     "data": {
      "text/plain": [
       "'positive'"
      ]
     },
     "execution_count": 5,
     "metadata": {},
     "output_type": "execute_result"
    }
   ],
   "source": [
    "df['sentiment'][1]"
   ]
  },
  {
   "cell_type": "code",
   "execution_count": 6,
   "metadata": {},
   "outputs": [
    {
     "data": {
      "text/plain": [
       "'A wonderful little production. <br /><br />The filming technique is very unassuming- very old-time-BBC fashion and gives a comforting, and sometimes discomforting, sense of realism to the entire piece. <br /><br />The actors are extremely well chosen- Michael Sheen not only \"has got all the polari\" but he has all the voices down pat too! You can truly see the seamless editing guided by the references to Williams\\' diary entries, not only is it well worth the watching but it is a terrificly written and performed piece. A masterful production about one of the great master\\'s of comedy and his life. <br /><br />The realism really comes home with the little things: the fantasy of the guard which, rather than use the traditional \\'dream\\' techniques remains solid then disappears. It plays on our knowledge and our senses, particularly with the scenes concerning Orton and Halliwell and the sets (particularly of their flat with Halliwell\\'s murals decorating every surface) are terribly well done.'"
      ]
     },
     "execution_count": 6,
     "metadata": {},
     "output_type": "execute_result"
    }
   ],
   "source": [
    "df['review'][1]"
   ]
  },
  {
   "cell_type": "code",
   "execution_count": 7,
   "metadata": {},
   "outputs": [
    {
     "data": {
      "text/plain": [
       "'positive'"
      ]
     },
     "execution_count": 7,
     "metadata": {},
     "output_type": "execute_result"
    }
   ],
   "source": [
    "df['sentiment'][1]"
   ]
  },
  {
   "cell_type": "code",
   "execution_count": 8,
   "metadata": {},
   "outputs": [],
   "source": [
    "df['sentiment'].replace('positive',1,inplace=True)\n",
    "df['sentiment'].replace('negative',1,inplace=True)"
   ]
  },
  {
   "cell_type": "code",
   "execution_count": 9,
   "metadata": {},
   "outputs": [
    {
     "data": {
      "text/html": [
       "<div>\n",
       "<style scoped>\n",
       "    .dataframe tbody tr th:only-of-type {\n",
       "        vertical-align: middle;\n",
       "    }\n",
       "\n",
       "    .dataframe tbody tr th {\n",
       "        vertical-align: top;\n",
       "    }\n",
       "\n",
       "    .dataframe thead th {\n",
       "        text-align: right;\n",
       "    }\n",
       "</style>\n",
       "<table border=\"1\" class=\"dataframe\">\n",
       "  <thead>\n",
       "    <tr style=\"text-align: right;\">\n",
       "      <th></th>\n",
       "      <th>review</th>\n",
       "      <th>sentiment</th>\n",
       "    </tr>\n",
       "  </thead>\n",
       "  <tbody>\n",
       "    <tr>\n",
       "      <th>0</th>\n",
       "      <td>One of the other reviewers has mentioned that ...</td>\n",
       "      <td>1</td>\n",
       "    </tr>\n",
       "    <tr>\n",
       "      <th>1</th>\n",
       "      <td>A wonderful little production. &lt;br /&gt;&lt;br /&gt;The...</td>\n",
       "      <td>1</td>\n",
       "    </tr>\n",
       "    <tr>\n",
       "      <th>2</th>\n",
       "      <td>I thought this was a wonderful way to spend ti...</td>\n",
       "      <td>1</td>\n",
       "    </tr>\n",
       "    <tr>\n",
       "      <th>3</th>\n",
       "      <td>Basically there's a family where a little boy ...</td>\n",
       "      <td>1</td>\n",
       "    </tr>\n",
       "    <tr>\n",
       "      <th>4</th>\n",
       "      <td>Petter Mattei's \"Love in the Time of Money\" is...</td>\n",
       "      <td>1</td>\n",
       "    </tr>\n",
       "  </tbody>\n",
       "</table>\n",
       "</div>"
      ],
      "text/plain": [
       "                                              review  sentiment\n",
       "0  One of the other reviewers has mentioned that ...          1\n",
       "1  A wonderful little production. <br /><br />The...          1\n",
       "2  I thought this was a wonderful way to spend ti...          1\n",
       "3  Basically there's a family where a little boy ...          1\n",
       "4  Petter Mattei's \"Love in the Time of Money\" is...          1"
      ]
     },
     "execution_count": 9,
     "metadata": {},
     "output_type": "execute_result"
    }
   ],
   "source": [
    "df.head()"
   ]
  },
  {
   "cell_type": "code",
   "execution_count": 10,
   "metadata": {},
   "outputs": [
    {
     "data": {
      "text/plain": [
       "<AxesSubplot: xlabel='sentiment', ylabel='count'>"
      ]
     },
     "execution_count": 10,
     "metadata": {},
     "output_type": "execute_result"
    },
    {
     "data": {
      "image/png": "[encoded data removed]",
      "text/plain": [
       "<Figure size 640x480 with 1 Axes>"
      ]
     },
     "metadata": {},
     "output_type": "display_data"
    }
   ],
   "source": [
    "sns.countplot(x='sentiment', data=df)"
   ]
  },
  {
   "cell_type": "code",
   "execution_count": 11,
   "metadata": {},
   "outputs": [
    {
     "data": {
      "text/plain": [
       "<AxesSubplot: xlabel='sentiment'>"
      ]
     },
     "execution_count": 11,
     "metadata": {},
     "output_type": "execute_result"
    },
    {
     "data": {
      "image/png": "[encoded data removed]",
      "text/plain": [
       "<Figure size 640x480 with 1 Axes>"
      ]
     },
     "metadata": {},
     "output_type": "display_data"
    }
   ],
   "source": [
    "sns.violinplot(x='sentiment',data=df)"
   ]
  },
  {
   "attachments": {},
   "cell_type": "markdown",
   "metadata": {},
   "source": [
    "### Data Preprocessing"
   ]
  },
  {
   "cell_type": "code",
   "execution_count": 12,
   "metadata": {},
   "outputs": [
    {
     "name": "stdout",
     "output_type": "stream",
     "text": [
      "['review']\n",
      "['review', 'sentiment']\n"
     ]
    }
   ],
   "source": [
    "columns=[]\n",
    "for i in df.columns:\n",
    "    columns.append(i)\n",
    "    print(columns)"
   ]
  },
  {
   "cell_type": "code",
   "execution_count": 13,
   "metadata": {},
   "outputs": [
    {
     "data": {
      "text/plain": [
       "review       0\n",
       "sentiment    0\n",
       "dtype: int64"
      ]
     },
     "execution_count": 13,
     "metadata": {},
     "output_type": "execute_result"
    }
   ],
   "source": [
    "df.isnull().sum()"
   ]
  },
  {
   "cell_type": "code",
   "execution_count": 14,
   "metadata": {},
   "outputs": [
    {
     "data": {
      "text/plain": [
       "(50000, 2)"
      ]
     },
     "execution_count": 14,
     "metadata": {},
     "output_type": "execute_result"
    }
   ],
   "source": [
    "df.shape"
   ]
  },
  {
   "cell_type": "code",
   "execution_count": 15,
   "metadata": {},
   "outputs": [
    {
     "data": {
      "text/html": [
       "<div>\n",
       "<style scoped>\n",
       "    .dataframe tbody tr th:only-of-type {\n",
       "        vertical-align: middle;\n",
       "    }\n",
       "\n",
       "    .dataframe tbody tr th {\n",
       "        vertical-align: top;\n",
       "    }\n",
       "\n",
       "    .dataframe thead th {\n",
       "        text-align: right;\n",
       "    }\n",
       "</style>\n",
       "<table border=\"1\" class=\"dataframe\">\n",
       "  <thead>\n",
       "    <tr style=\"text-align: right;\">\n",
       "      <th></th>\n",
       "      <th>sentiment</th>\n",
       "    </tr>\n",
       "  </thead>\n",
       "  <tbody>\n",
       "    <tr>\n",
       "      <th>count</th>\n",
       "      <td>50000.0</td>\n",
       "    </tr>\n",
       "    <tr>\n",
       "      <th>mean</th>\n",
       "      <td>1.0</td>\n",
       "    </tr>\n",
       "    <tr>\n",
       "      <th>std</th>\n",
       "      <td>0.0</td>\n",
       "    </tr>\n",
       "    <tr>\n",
       "      <th>min</th>\n",
       "      <td>1.0</td>\n",
       "    </tr>\n",
       "    <tr>\n",
       "      <th>25%</th>\n",
       "      <td>1.0</td>\n",
       "    </tr>\n",
       "    <tr>\n",
       "      <th>50%</th>\n",
       "      <td>1.0</td>\n",
       "    </tr>\n",
       "    <tr>\n",
       "      <th>75%</th>\n",
       "      <td>1.0</td>\n",
       "    </tr>\n",
       "    <tr>\n",
       "      <th>max</th>\n",
       "      <td>1.0</td>\n",
       "    </tr>\n",
       "  </tbody>\n",
       "</table>\n",
       "</div>"
      ],
      "text/plain": [
       "       sentiment\n",
       "count    50000.0\n",
       "mean         1.0\n",
       "std          0.0\n",
       "min          1.0\n",
       "25%          1.0\n",
       "50%          1.0\n",
       "75%          1.0\n",
       "max          1.0"
      ]
     },
     "execution_count": 15,
     "metadata": {},
     "output_type": "execute_result"
    }
   ],
   "source": [
    "df.describe()"
   ]
  },
  {
   "cell_type": "code",
   "execution_count": 16,
   "metadata": {},
   "outputs": [
    {
     "name": "stdout",
     "output_type": "stream",
     "text": [
      "<class 'pandas.core.frame.DataFrame'>\n",
      "RangeIndex: 50000 entries, 0 to 49999\n",
      "Data columns (total 2 columns):\n",
      " #   Column     Non-Null Count  Dtype \n",
      "---  ------     --------------  ----- \n",
      " 0   review     50000 non-null  object\n",
      " 1   sentiment  50000 non-null  int64 \n",
      "dtypes: int64(1), object(1)\n",
      "memory usage: 781.4+ KB\n"
     ]
    }
   ],
   "source": [
    "df.info()"
   ]
  },
  {
   "cell_type": "code",
   "execution_count": 17,
   "metadata": {},
   "outputs": [
    {
     "name": "stdout",
     "output_type": "stream",
     "text": [
      "So im not a big fan of Boll's work but then again not many are. I enjoyed his movie Postal (maybe im the only one). Boll apparently bought the rights to use Far Cry long ago even before the game itself was even finsished. <br /><br />People who have enjoyed killing mercs and infiltrating secret research labs located on a tropical island should be warned, that this is not Far Cry... This is something Mr Boll have schemed together along with his legion of schmucks.. Feeling loneley on the set Mr Boll invites three of his countrymen to play with. These players go by the names of Til Schweiger, Udo Kier and Ralf Moeller.<br /><br />Three names that actually have made them selfs pretty big in the movie biz. So the tale goes like this, Jack Carver played by Til Schweiger (yes Carver is German all hail the bratwurst eating dudes!!) However I find that Tils acting in this movie is pretty badass.. People have complained about how he's not really staying true to the whole Carver agenda but we only saw carver in a first person perspective so we don't really know what he looked like when he was kicking a**.. <br /><br />However, the storyline in this film is beyond demented. We see the evil mad scientist Dr. Krieger played by Udo Kier, making Genetically-Mutated-soldiers or GMS as they are called. Performing his top-secret research on an island that reminds me of \"SPOILER\" Vancouver for some reason. Thats right no palm trees here. Instead we got some nice rich lumberjack-woods. We haven't even gone FAR before I started to CRY (mehehe) I cannot go on any more.. If you wanna stay true to Bolls shenanigans then go and see this movie you will not be disappointed it delivers the true Boll experience, meaning most of it will suck.<br /><br />There are some things worth mentioning that would imply that Boll did a good work on some areas of the film such as some nice boat and fighting scenes. Until the whole cromed/albino GMS squad enters the scene and everything just makes me laugh.. The movie Far Cry reeks of scheisse (that's poop for you simpletons) from a fa,r if you wanna take a wiff go ahead.. BTW Carver gets a very annoying sidekick who makes you wanna shoot him the first three minutes he's on screen.\n",
      "\"The Cell\" is an exotic masterpiece, a dizzying trip into not only the vast mind of a serial killer, but also into one of a very talented director. This is conclusive evidence of what can be achieved if human beings unleash their uninhibited imaginations. This is boldness at work, pushing aside thoughts to fall into formulas and cliches and creating something truly magnificent. This is the best movie of the year to date.<br /><br />I've read numerous complaints about this film, anywhere from all style and no substance to poorly cast characters and bad acting. To negatively criticize this film is to miss the point. This movie may be a landmark, a tradition where future movies will hopefully follow. \"The Cell\" has just opened the door to another world of imagination. So can we slam the door in its face and tell it and its director Tarsem Singh that we don't want any more? Personally, I would more than welcome another movie by Tarsem, and would love to see someone try to challenge him.<br /><br />We've all heard talk about going inside the mind of a serial killer, and yes, I do agree that the \"genre\" is a bit overworked. The 90s were full of movies trying to depict what makes serial killers tick; some of them worked, but most failed. But \"The Cell\" does not blaze down the same trail, we are given a new twist, we are physically transported into the mind and presented with nothing less than a fascinating journey of the most mysterious subject matter ever studied.<br /><br />I like how the movie does not bog us down with too much scientific jargon trying to explain how Jennifer Lopez actually gets to enter the brain of another. Instead, she just lies down on a laboratory table and is wrapped with what looks like really long Twizzlers and jaunted into another entity. \"The Cell\" wants to let you \"see\" what it's all about and not \"how\" it's all about, and I guess that's what some people don't like. True, I do like explanations with my movies, but when a movie ventures onto new ground you must let it do what it desires and simply take it in.<br /><br />I noticed how the film was very dark when it showed reality, maybe to contrast the bright visuals when inside the brain of another. Nonetheless, the set design was simply astonishing. I wouldn't be surprised if this film took home a few Oscars in cinematography, best costumes, best director and the like. If it were up to me it'd at least get nominated for best picture.<br /><br />I've noticed that I've kind of been repeating myself. Not because there's nothing else to say, but because I can't stress enough how fantastic I thought \"The Cell\" was. If you walk into the movie with a very open mind and to have it taken over with wonders and an eye-popping feast then you are assured a good time. I guess this film was just a little too much for some people, writing it off as \"weird\" or \"crazy\". I am very much into psychology and the imagination of the human mind, so it was right down my alley. Leaving the theater, I heard one audience member say \"Whoever made that movie sure did a lot of good drugs.\" If so, I want what he was smoking.<br /><br />**** (out of 4)\n",
      "'War movie' is a Hollywood genre that has been done and redone so many times that clichéd dialogue, rehashed plot and over-the-top action sequences seem unavoidable for any conflict dealing with large-scale combat. Once in a while, however, a war movie comes along that goes against the grain and brings a truly original and compelling story to life on the silver screen. The Civil War-era \"Cold Mountain,\" starring Jude Law, Nicole Kidman and Renée Zellweger is such a film.<br /><br />Then again, calling Cold Mountain\" a war movie is not entirely accurate. True enough, the film opens with a (quite literally) quick-and-dirty battle sequence that puts \"Glory\" director Edward Zwick shame. However, \"Cold Mountain\" is not so much about the Civil War itself as it is about the period and the people of the times. The story centers around disgruntled Confederate soldier Inman, played by Jude Law, who becomes disgusted with the gruesome war and homesick for the beautiful hamlet of Cold Mountain, North Carolina and the equally beautiful southern belle he left behind, Ada Monroe, played by Nicole Kidman. At first glance, this setup appears formulaic as the romantic interest back home gives the audience enough sympathy to root for the reluctant soldier's tribulations on the battlefield. Indeed, the earlier segments of the film are relatively unimpressive and even somewhat contrived.<br /><br />\"Cold Mountain\" soon takes a drastic turn, though, as the intrepid hero Inman turns out to be a deserter (incidentally saving the audience from the potentially confusing scenario of wanting to root for the Confederates) and begins a long odyssey homeward. Meanwhile, back at the farm, Ada's cultured ways prove of little use in the fields; soon she is transformed into something of a wilderbeast. Coming to Ada's rescue is the course, tough-as-nails Ruby Thewes, played by Renée Zellweger, who helps Ada put the farm back together and, perhaps more importantly, cope with the loneliness and isolation the war seems to have brought upon Ada.<br /><br />Within these two settings, a vivid, compelling and, at times, very disturbing portrait of the war-torn South unfolds. The characters with whom Inman and Ada interact are surprisingly complex, enhanced by wonderful performances of Brendan Gleeson as Ruby's deadbeat father, Ray Winstone as an unrepentant southern \"lawman,\" and Natalie Portman as a deeply troubled and isolated young mother. All have been greatly affected and changed by \"the war of Northern aggression,\" mostly for the worse. The dark, pervading anti-war message, accented by an effective, haunting score and chillingly beautiful shots of Virginia and North Carolina, is communicated to the audience not so much by gruesome battle scenes as by the scarred land and traumatized people for which the war was fought. Though the weapons and tactics of war itself have changed much in the past century, it's hellish effect on the land is timelessly relevant.<br /><br />Director Anthony Minghella manages to maintain this gloomy mood for most of the film, but the atmosphere is unfortunately denigrated by a rather tepid climax that does little justice to the wonderfully formed characters. The love story between Inman and Ada is awkwardly tacked onto the beginning and end of the film, though the inherently distant, abstracted and even absurd nature of their relationship in a way fits the dismal nature of the rest of the plot.<br /><br />Make no mistake, \"Cold Mountain\" has neither the traits of a feel-good romance nor an inspiring war drama. It is a unique vision of an era that is sure not only to entertain but also to truly absorb the audience into the lives of a people torn apart by a war and entirely desperate to be rid of its terrible repercussions altogether.\n",
      "One of the most significant quotes from the entire film is pronounced halfway through by the protagonist, the mafia middle-man Titta Di Girolamo, a physically non-descript, middle-aged man originally from Salerno in Southern Italy. When we're introduced to him at the start of the film, he's been living a non-life in an elegant but sterile hotel in the Italian-speaking Canton of Switzerland for the last ten years, conducting a business we are only gradually introduced to. While this pivotal yet apparently unremarkable scene takes place employees of the the Swiss bank who normally count Di Girolamo's cash tell him that 10,000 dollars are missing from his usual suitcase full of tightly stacked banknotes. At the news, he quietly but icily threatens his coaxing bank manager of wanting to close down his account. Meanwhile he tells us, the spectators, that when you bluff, you have to bluff right through to the end without fear of being caught out or appearing ridiculous. He says: you can't bluff for a while and then halfway through, tell the truth. Having eventually done this - bluffed only halfway through and told the truth, and having accepted the consequences of life and ultimately, love - is exactly the reason behind the beginning of Titta Di Girolamo's troubles. <br /><br />This initially unsympathetic character, a scowling, taciturn, curt man on the verge of 50, a man who won't even reply in kind to chambermaids and waitresses who say hello and goodbye, becomes at one point someone the spectator cares deeply about. At one point in his non-life, Titta decides to feel concern about appearing \"ridiculous\". The first half of the film may be described as \"slow\" by some. It does indeed reveal Di Girolamo's days and nights in that hotel at an oddly disjoined, deliberate pace, revealing seemingly mundane and irrelevant details. However, scenes that may have seemed unnecessary reveal just how essential they are as this masterfully constructed and innovative film unfolds before your eyes. The existence of Titta Di Girolamo - the man with no imagination, identity or life, the unsympathetic character you unexpectedly end up loving and feeling for when you least thought you would - is also conveyed with elegantly edited sequences and very interesting use of music (one theme by the Scottish band Boards of Canada especially stood out). <br /><br />Never was the contrast between the way Hollywood and Italy treat mobsters more at odds than since the release of films such as Le Conseguenze dell'Amore or L'Imbalsamatore. Another interesting element was the way in which the film made use of the protagonist's insomnia. Not unlike The Machinist (and in a far more explicit way, the Al Pacino film Insomnia), Le Conseguenze dell'Amore uses this condition to symbolise a deeper emotional malaise that's been rammed so deep into the obscurity of the unconscious, it's almost impossible to pin-point its cause (if indeed there is one). <br /><br />The young and sympathetic hotel waitress Sofia (played by Olivia Magnani, grand-daughter of the legendary Anna) and the memory of Titta's best friend, a man whom he hasn't seen in 20 years, unexpectedly provide a tiny window onto life that Titta eventually (though tentatively at first) accepts to look through again. Though it's never explicitly spelt out, the spectator KNOWS that to a man like Titta, accepting The Consequences of Love will have unimaginable consequences. A film without a single scene of sex or violence, a film that unfolds in its own time and concedes nothing to the spectator's expectations, Le Conseguenze dell'Amore is a fine representative of that small, quiet, discreet Renaissance that has been taking place in Italian cinema since the decline of Cinecittà during the second half of the 70s. The world is waiting for Italy to produce more Il Postino-like fare, more La Vita è Bella-style films... neglecting to explore fine creations like Le Conseguenze dell'Amore, L'Imbalsamatore and others. Your loss, world.\n",
      "Okay, last night, August 18th, 2004, I had the distinct displeasure of meeting Mr. Van Bebble at a showing of the film The Manson Family at the Three Penny in Chicago as part of the Chicago Underground Film Festival. Here's what I have to say about it. First of all, the film is an obvious rip off of every Kenneth Anger, Roman Polanski, Oliver Stone and Terry Gilliam movie I've ever seen. Second of all, in a short Q & A session after the show Mr. Van Bebble immediately stated that he never made any contact with the actual Manson Family members or Charlie himself, calling them liars and saying he wanted nothing to do with them, that the film was based on his (Van Bebble's) take on the trial having seen it all from his living room on TV and in the news (and I'm assuming from the Autobiography and the book Helter Skelter which were directly mimicked through the narrative). So I had second dibs on questions, I asked if he was trying to present the outsider, Mtv, sex drugs and rock 'n roll version and not necessarily the true story. This question obviously pissed off the by now sloshed director who started shouting \"f*** you, shut the f*** up, this is the truth! All those other movies are bullsh**!\"<br /><br />Well anyway, I didn't even think about how ridiculous this was until the next day when I read the tagline for the film, \"You've heard the laws side of the story...now hear the story as it is told by the Manson Family.\" Excuse me, if this guy has never even spoken to the family and considers them to be liars that he doesn't want to have anything to do with, how in God's name can he tell the story for them!? This is the most ridiculous statement I have ever heard! The film was obviously catered to the sex drugs and rock 'n roll audience that it had no trouble in attracting to the small, dimly lit theatre, and was even more obviously spawned by the sex drugs and rock 'n roll mind of a man who couldn't even watch his own film without getting up every ten minutes to go get more beer or to shout some sort of Rocky Horroresque call line to the actors on screen. This film accomplishes little more than warping the public's image of actual events (which helped shape the state of America and much of the world today) into some sort of Slasher/Comic Book/Porno/Rape fantasy dreamed up by an obviously shallow individual.<br /><br />The film was definitely very impressive to look at. The soundtrack was refreshing as it contained actual samples of Charlie's work with the Family off of his Lie album. The editing was nice and choppy to simulate the nauseating uncertainty of most modern music videos. All in all this film would have made a much better addition to the catalogues at Mtv than to the Underground Film Festival or for that matter the minds of any intellectual observers. I felt like I was at a midnight Rocky Horror viewing the way the audience was dressed and behaving (probably the best part of the experience). The cast was very good with the exception of Charlie who resembled some sort of stoned Dungeons and Dragons enthusiast more than the actual role he was portraying. The descriptions the film gave of him as full of energy, throwing ten things at you and being very physical about it all the while did not match at all the slow, lethargic, and chubby representation that was actually presented.<br /><br />All in all the film basically explains itself as Sadie (or maybe it was Linda) declares at the end, \"You can write a bunch of bullsh** books or make a bunch of bullsh** movies...etc. etc.\" Case in point. Even the disclaimer \"Based on a True Story\" is a dead giveaway, signalling that somewhere beneath this psychedelic garbage heap lay the foundation of an actual story with content that will make and has made a difference in the world. All you have to do is a little bit of alchemy to separate the truth from the the crap, or actually, maybe you could just avoid it all together and go read a book instead.<br /><br />All I can say is this, when the film ended I got a free beer so I'm glad I went, but not so glad I spent fifteen dollars on my ticket to be told to shut the f*** up for asking the director a question. Peace.\n",
      "From the film's first shot - Keira Knightley as Elizabeth Bennet wandering reading through a field at dawn, thus invoking all the clichés cinema has developed to address the phenomenon of the strong-minded rebellious female character in period drama - I knew I was in for something to make me want to kill myself.<br /><br />Joe Wright seemed not only to have not read the book, but to be under the regrettable misapprehension that what he was filming was not in fact Jane Austen's subtle, nuanced comedy of manners conducted through sparkling, delicate social interaction in eighteenth century English drawing-rooms, but a sort of U-certificate Wuthering Heights. Thus we were treated to every scene between Elizabeth and Darcy taking place outside for no apparent reason, in inappropriately rugged scenery and often in the pouring rain. Not to mention that Jane Austen, and in particular P & P, is not about passion, sexual tension or love. It's about different strategies of negotiating the stultification of eighteenth century society. Which was completely ignored, so that the Bennets' house was a rambunctious, chaotic place where everybody shouts at once, runs around, leaves their underwear on chairs, and pigs wander happily through the house; the society balls become rowdy country dances one step away from a Matrix Reloaded style dance-orgy; and everybody says exactly what they think without the slightest regard for propriety.<br /><br />The genius of Jane Austen lies in exploring the void created by a society in which nobody says what they think or mean because of an overwhelming regard for propriety, and the tragic predicaments of her characters arise from misunderstandings and miscommunications enabled by that speechless gap. So both the brilliance of Jane Austen and the very factor that allows her plots - particularly in this film - to function was completely erased. Subtlety in general was nowhere int his film, sacrificed in favour of an overwrought drama which jarred entirely with the material and the performances.<br /><br />It was so obviously trying to be a *serious* film. The humour - which IS Pride & Prejudice, both Austen's methodology and her appeal - was almost entirely suppressed in favour of all this po-faced melodrama, and when it was allowed in, was handled so clumsily. Pride & Prejudice is a serious narrative which makes serious points, yes, but those serious points and weightier themes are not just intertwined with the humour, they are embedded in it. You can't lose Jane Austen's technique, leaving only the bare bones of the story, and expect the themes to remain. Not even when you replace her techniques with your own heavy-handed mystical-numinous fauxbrow cinematography.<br /><br />Elizabeth Bennett is supposed to be a woman, an adult, mature and sensible and clear-sighted. Keira Knightley played the first half of the film like an empty-headed giggling schoolgirl, and the second half like an empty-headed schoolgirl who thinks she is a tragic heroine. Elizabeth's wit, her combative verbal exchanges, her quintessential characteristic of being able to see and laugh at everybody's follies including her own, her strength and composure, and her fantastic clear-sightedness were completely lost and replaced with ... what? A lot of giggling and staring into the distance? Rather than being able to keep her head when all about her were losing theirs, she started to cry and scream at the slightest provocation - and not genuinely raging, either; no, these were petulant hissy fits. And where the great strength of Austen's Elizabeth (at least in Austen's eyes) was her ability to retain integrity and observance while remaining within the boundaries of society and sustaining impeachable propriety, Knightley's Elizabeth had no regard whatsoever for convention. Furthermore, she seemed to think that wandering around barefoot in the mud in the eighteenth century version of overalls established her beyond doubt as spirited and strong-minded, and therefore nothing in the character as written or the performance had to sustain it. An astonishingly unsubtle and bland performance. In which quest for blandness and weakness, she was ably matched by Matthew Macfayden.<br /><br />Donald Sutherland as Mr Bennet seemed weak, ineffectual and permanently befuddled without the wicked sense of humour and ironic detachment at the expense of human relationships that makes Mr Bennet so fascinating and tragic. His special bond with Lizzie, as the only two sensible people in a world of fools, was completely lost, not least because both of them were fools in a world of fools, and that completely deprived the end of the film of emotional impact. Mr Bingley was no longer amiable and well-meaning to the point of folly, but was played as a complete retard for cheap laughs, and the woman who was playing Jane was so wildly inconsistent that she may as well not have tried to do anything with the character at all. The script veered wildly between verbatim chunks of Jane Austen - delivered with remarkable clumsiness - and totally contemporaneous language which would not be out of place in a modern day romantic comedy.<br /><br />Just get the BBC adaptation on DVD and save yourself the heartache.\n",
      "Some people drift through life, moving from one thing or one person to the next without batting an eye; others latch on to a cause, another person or a principle and remain adamant, committed to whatever it is-- and figuratively or literally they give their word and stand by it. But we're all different, `Made of different clay,' as one of the characters in this film puts it, which is what makes life so interesting. Some people are just plain crazy, though-- and maybe that's the way you have to be to live among the masses. Who knows? Who knows what it takes to make things-- life-- work? Writer/director Lisa Krueger takes a shot at it, using a light approach to examine that thin line between being committed-- and how one `gets' committed-- and obsession, in `Committed,' starring Heather Graham as a young woman who is adamant, committed, obsessive and maybe just a little bit crazy, too. Her name is Joline, and this is her story.<br /><br />\tAdmittedly, Joline has always been a committed person; in work, relationships, in life in general. She's a woman of her word who sticks by it no matter what. And when she marries Carl (Luke Wilson), it's forever. The only problem is, someone forgot to tell Carl-- and 597 days into the marriage, he's gone; off to `find' himself and figure it all out. When Joline realizes he's not coming back, she refuses to give up on him, or their marriage. Maybe it's because of that `clay' she's made of. Regardless, she leaves their home in New York City and sets off to find him, which she does-- in El Paso, Texas, of all places. But once she knows where he is, she keeps her distance, giving him his `space' and not even letting him know she's there. She considers Carl as being in a `spiritual coma,' and it's her job to keep a `spiritual vigil' over him until he comes to his senses. And while she watches and waits, her life is anything but dull, as she encounters a young woman named Carmen (Patricia Velazquez), a waitress at one of the local eateries; Carmen's `Grampy,' (Alfonso Arau), who is something of a mystic; T-Bo (Mark Ruffalo), a truck driver who has issues concerning Carl; and Neil (Goran Visnjic) an artist who makes pinatas and takes a fancy to her. For Joline, it's a journey of discovery, during which she learns a lot about Carl, but even more about herself.<br /><br />\tThere's a touch of humor, a touch of romance, and some insights into human nature in this quirky film that is more about characterization and character than plot. And Krueger presents it all extremely well, delivering a film that is engaging and entertaining. Her characters are very real people, with all the wants, needs and imperfections that make up the human condition; a rich and eclectic bunch through which she tells her story. We see it from Joline's point-of-view, as Krueger makes us privy to Joline's thoughts and therefore her motivations, which puts a decided perspective on the events as they unfold. That, along with the deliberate pace she sets that allows you to soak up the atmosphere and the ambiance she creates, makes for a very effective piece of storytelling. There's an underlying seriousness to this subject matter, but Krueger chooses to avoid anything heavy-handed or too deep and concentrates instead on the natural humor that evolves from the people and situations that Joline encounters. And the result is a well textured, affecting and upbeat look at that thing we call life.<br /><br />\tHeather Graham takes hold of this role from the first frame of the film to make Joline a character totally of her own creation. She immerses herself in the part and gives a performance that is convincing and believable, adding the little personal traits and nuance that makes all the difference between a portrayal that is a mere representation of a person, and one that is real. And for this film to work, it was imperative that Joline be viable and believable-- and Graham succeeds on all fronts. Her screen presence has never been more alluring, and her vibrant personality or even just the way she uses her eyes, is enough to draw you in entirely. it's all a part of the character she creates; there's an appeal to Joline that exudes from her entire countenance, who she is inside and out. She's a likable, agreeable person, and because you've shared her innermost thoughts, you know who she is. It's a good job all the way around, beginning with the way the character was written, to the way Graham brings her so vibrantly to life.<br /><br />\tAs Carmen, Patricia Velazquez is totally engaging, as well. Her performance is very natural and straightforward, and she uses her instincts to effectively create her character. She has a charismatic presence, but is less than flamboyant, and it gives her an aspect that is attractively down-to-earth. She is refreshingly open and up-front; you get the impression that Carmen is not one to hold anything back, but is totally honest on all fronts, and that, too, is part of her appeal. And, as with Joline, this character is well written, and Velazquez brings her convincingly to life.<br /><br />\tOverall, there is a number of notable performances that are the heart and soul of this film, including those of Luke Wilson, Casey Affleck (as Joline's brother, Jay), Goran Visnjic, Alfonso Arau and especially Mark Ruffalo as T-Bo, who, with very little actual screen time, manages to create a memorable character.<br /><br />\tThe supporting cast includes Kim Dickens (Jenny), Clea Du Vall (Mimi), Summer Phoenix (Meg), Art Alexakis (New York Car Thief), Dylan Baker (Carl's Editor), and Mary Kay Place (Psychiatrist). A film that says something about the value of stepping back to consider The Big Picture-- reflecting upon who we are, where we're going and what we really need-- `Committed' is an enjoyable experience; a ride definitely worth taking. 8/10.\n",
      "I thought that ROTJ was clearly the best out of the three Star Wars movies. I find it surprising that ROTJ is considered the weakest installment in the Trilogy by many who have voted. To me it seemed like ROTJ was the best because it had the most profound plot, the most suspense, surprises, most emotional,(especially the ending) and definitely the most episodic movie. I personally like the Empire Strikes Back a lot also but I think it is slightly less good than than ROTJ since it was slower-moving, was not as episodic, and I just did not feel as much suspense or emotion as I did with the third movie.<br /><br />It also seems like to me that after reading these surprising reviews that the reasons people cited for ROTJ being an inferior film to the other two are just plain ludicrous and are insignificant reasons compared to the sheer excellence of the film as a whole. I have heard many strange reasons such as: a) Because Yoda died b) Because Bobba Fett died c) Because small Ewoks defeated a band of stormtroopers d) Because Darth Vader was revealed<br /><br />I would like to debunk each of these reasons because I believe that they miss the point completely. First off, WHO CARES if Bobba Fett died??? If George Lucas wanted him to die then he wanted him to die. Don't get me wrong I am fan of Bobba Fett but he made a few cameo appearances and it was not Lucas' intention to make him a central character in the films that Star Wars fans made him out to be. His name was not even mentioned anywhere in the movie... You had to go to the credits to find out Bobba Fett's name!!! Judging ROTJ because a minor character died is a bit much I think... Secondly, many fans did not like Yoda dying. Sure, it was a momentous period in the movie. I was not happy to see him die either but it makes the movie more realistic. All the good guys can't stay alive in a realistic movie, you know. Otherwise if ALL the good guys lived and ALL the bad guys died this movie would have been tantamount to a cheesy Saturday morning cartoon. Another aspect to this point about people not liking Yoda's death.. Well, nobody complained when Darth Vader struck down Obi Wan Kenobi in A New Hope. (Many consider A New Hope to be the best of the Trilogy) Why was Obi Wan's death okay but Yoda's not... hmmmmmmmmmmmm.... Another reason I just can not believe was even stated was because people found cute Ewoks overpowering stormtroopers to be impossible. That is utterly ridiculous!! I can not believe this one!! First off, the Ewoks are in their native planet Endor so they are cognizant of their home terrain since they live there. If you watch the movie carefully many of the tactics the Ewoks used in defeating the stormtroopers was through excellent use of their home field advantage. (Since you lived in the forest all your life I hope you would have learned to use it to your advantage) They had swinging vines, ropes, logs set up to trip those walkers, and other traps. The stormtroopers were highly disadvantaged because they were outnumbered and not aware of the advantages of the forest. The only thing they had was their blasters. To add, it was not like the Ewoks were battling the stormtroopers themselves, they were heavily assisted by the band of rebels in that conquest. I thought that if the stormtroopers were to have defeated a combination of the Star Wars heros, the band of rebels, as well as the huge clan of Ewoks with great familiarity of their home terrain, that would have been a great upset. Lastly, if this scene was still unbelievable to you.. How about in Empire Strikes Back or in A New Hope where there were SEVERAL scenes of a group consisting of just Han Solo, Chewbacca, and the Princess, being shot at by like ten stormtroopers and all their blasters missed while the heros were in full view!! And not only that, the heroes , of course, always hit the Stormtroopers with their blasters. The troopers must have VERY, VERY bad aim then! At least in Empire Strikes Back, the Battle of Endor was much more believable since you had two armies pitted each other not 3 heroes against a legion of stormtroopers. Don't believe me? Check out the battle at Cloud City when our heroes were escaping Lando's base. Or when our heros were rescuing Princess Leia and being shot at (somehow they missed)as Han Solo and Luke were trying to exit the Death Star.<br /><br />The last reason that I care to discuss (others are just too plain ridiculous for me to spend my time here.) is that people did not like Darth Vader being revealed! Well, in many ways that was a major part of the plot in the movie. Luke was trying to find whether or not Darth Vader was his father, Annakin Skywalker. It would have been disappointing if the movie had ended without Luke getting to see his father's face because it made it complete. By Annakin's revelation it symbolized the transition Darth Vader underwent from being possessed by the dark side (in his helmet) and to the good person he was Annakin Skywalker (by removing the helmet). The point is that Annakin died converted to the light side again and that is what the meaning of the helmet removal scene was about. In fact, that's is what I would have done in that scene too if I were Luke's father...Isn't that what you would have done if you wanted to see your son with your own eyes before you died and not in a mechanized helmet?<br /><br />On another note, I think a subconscious or conscious expectation among most people is that the sequel MUST be worse (even if it is better) that preceding movies is another reason that ROTJ does not get as many accolades as it deserves. I never go into a film with that deception in mind, I always try to go into a film with the attitude that \"Well, it might be better or worse that the original .. But I can not know for sure.. Let's see.\" That way I go with an open mind and do not dupe myself into thinking that a clearly superior film is not as good as it really was.<br /><br />I am not sure who criticizes these movies but, I have asked many college students and adults about which is their favorite Star Wars movie and they all tell me (except for one person that said that A New Hope was their favorite) that it is ROTJ. I believe that the results on these polls are appalling and quite misleading.<br /><br />Bottom line, the Return of the Jedi was the best of the Trilogy. This movie was the only one of the three that kept me riveted all throughout its 135 minutes. There was not a moment of boredom because each scene was either suspenseful, exciting, surprising, or all of the above. For example, the emotional light saber battle between Luke and his father in ROTJ was better than the one in the Empire Strikes Back any day!!!<br /><br />Finally, I hope people go see the Phantom Menace with an open mind because if fans start looking for nitpicky, insignificant details (or see it as \"just another sequel\") to trash the movie such as \"This movie stinks because Luke is not in it!\" then this meritorious film will become another spectacular movie that will be the subject of derision like ROTJ suffered unfortunately.<br /><br />\n",
      "Warning: Does contain spoilers.<br /><br />Open Your Eyes<br /><br />If you have not seen this film and plan on doing so, just stop reading here and take my word for it. You have to see this film. I have seen it four times so far and I still haven't made up my mind as to what exactly happened in the film. That is all I am going to say because if you have not seen this film, then stop reading right now.<br /><br />If you are still reading then I am going to pose some questions to you and maybe if anyone has any answers you can email me and let me know what you think.<br /><br />I remember my Grade 11 English teacher quite well. His name was Mr. Krisak. To me, he was wise beyond his years and he always had this circuitous way of teaching you things that perhaps you weren't all too keen on. If we didn't like Shakespeare, then he turned the story into a modern day romance with modern day language so we could understand it. Our class room was never a room, it was a cottage and we were on the lake reading a book at our own leisure time. This was his own indelible way of branding something into our sponge-like minds. <br /><br />I begin this review of Vanilla Sky with a description of this brilliant man because he once gave us an assignment that has been firmly etched in my mind, like the phone number of a long lost best friend, and it finally made some sense to me after watching The Matrix. Now if I didn't know better, I would have thought that the Wachowski brothers were really just an alias for my teacher Mr. Krisak. But giving them the benefit of the doubt, we'll assume it wasn't him. But that was the first time this assignment was anything more than impalpable. <br /><br />He had asked us to prove to him and to ourselves that were real. Show me how you can tell that you are real. This got the class spouting off all of the usual ideas that I'm sure you can imagine. Everything from pain, to sense of touch to sense of loss to sense of hunger were spouted off to our teacher to prove to him that we were real. After every scenario that we gave him, he would come back with the one answer that would leave us speechless.<br /><br />\"What if you are nothing but someone else's dream?\"<br /><br />What if you were someone else's dream? What a messed up question that is. This was a question/scenario posed to us about 15 years ago, before the astronomical use of the Internet and rapid advancement of computers. How possible could it seem back then? But if you look at today's technology, now ask yourself, what it you were a part of someone else's dream.<br /><br />Another brilliant but surreal film this year, David Lynch's Mulholland Drive explored similar areas. But Vanilla Sky goes deeper than any other film could hope to. In short this is one film that will literally (if you let it) blow your mind from all of the possibilities that surround you.<br /><br />Open your Eyes.<br /><br />Tom Cruise plays David Aames, a young, hot shot, righteous, full of himself publisher and owner of several magazines. He inherited this from his father and although he has talent and business savvy, his board of governers, the Seven Dwarfs, think he is a rich dink born with a silver spoon in his mouth. They feel he has done nothing to deserve the pinnacle of success that each and every one of them believes should go to them. <br /><br />Early in the film we meet one of David's gorgeous toys named Julie Gianni, played with pernicious but bombastic perfection by Cameron Diaz. David and Julie play a good game, both claiming they are just there to use each other and are not the slightest bit interested in a monogamous, committed relationship. This is the type of relationship commensurate with David's other flings he's had in the sexual prime of his life. And although both talk a good game, we can tell that only one is really telling the truth. <br /><br />Next we meet Brian Shelby, played with a stroke of genius by Kevin Smith's good buddy Jason Lee. Brian is writing a book that David is going to publish but they are also very good friends. This is something that David has very little of in his life and you can sense a real caring for one another early on in the film. Brian has one famous line that he keeps telling David over and over again. And that is \" the sweet ain't so sweet without the bitter.\" He goes on to tell him that one day he will find true love and not just this part time lover status that he seems to perpetrate with all of the floozies who inhabit his bed for a night or two.<br /><br />At David's huge birthday bash, (so huge that the likes of Steven Spielberg wish him a happy birthday) Brian enters with his date, Sofia Sorrano, played of course by Penelope Cruz with what has to be the best performance of this year by an actress. This is a bash by invite only and at first David and Sofia seem intrigued with one another. And in typical David fashion, despite his best friend being there, he begins to flirt with Sofia. To complicate things, Julie shows up uninvited and begins spying on David. David then spends the night with Sofia, but they only talk and draw caricatures of one another. There is no hanky panky. The next day, as David is leaving Sofia's apartment, he is greeted by Julie, who offers him a ride and from there.......well, I think we have all seen the commercials.<br /><br />That is all I will really say about the plot, because from here the film teases us with what is reality and what is blurred perception. We are introduced to a character played by Kurt Russel and a few other shady characters that all play a part in this labyrinth like haze. There is a subtext of death and possible panacea-like cure-alls that may or not be able to create the possibility of eternal life. This is just one of the intriguing possibilities the movie offers us, but it doesn't end there.<br /><br />Like many movies seem to thrive on today, this film has a secret. Sixth Sense may have began this craze, but look even further back and you can maybe thank Angel Heart for starting the craze. Regardless of how it originated, Vanilla Sky has one of it's own surreptitious gut busters. And what makes this one so much fun is that the film gives you many obvious clues along the way but not enough to give you an apodictic solution to the gauntlet of truth and lies you have just put yourself through. I have seen this film four times and every time it has been because I want to see if there is something more I can pick up, something more I can understand. To be able to work your mind in the theater, to enable it to open up to new possibilities is something rare in a film. All of the ersatz so called \"Best Pictures of the year\" have been good but nothing spectacular. They lack substance. A Beautiful Mind was intriguing but flat, The Royal Tenenbaums was interesting but uneven. Vanilla Sky is a rarity because it is a film that leaves you yearning for more yet guarantees your satisfaction because the film and those that made it care about it. I know this film has received mixed reviews but I just think that those who don't like it don't quite understand it. <br /><br />This is what film making is supposed to be like. This is what a film is supposed to do to you. It is supposed to make you feel something. Most of the other films this year have been just empty spaces. This one isn't.<br /><br />10 out of 10 The best film of the year. I would love to see this get nominated for best picture and I would love to see Cruz up for best Actress, Diaz for best supporting, Cruise for best actor and Jason Mewes should be a shoe in for best supporting actor. Cameron Crowe should there as well. None of this may come to pass, and that is a shame. This is one film that should not be missed. <br /><br />And on a final note, I am quite sure Mr. Krisak would like this film and maybe this is the one film that may answer his question. Can you prove you are real? Or are we just a figment of someone's imagination? Are we artificially transplanted for someone else's bemusement? This is a film that spawns more questions than it does answers. And I'm sure that is just fine with him.<br /><br />Open Your Eyes\n",
      "If anyone ever assembles a compendium on modern American horror that is truly worth it's salt, there will *have* to be an entry for SF Brownrigg's ubiquetous exercize in Asylum Horror. Every time I watch this movie I am impressed by the complete economy of the film, from the compact, totally self-contained plot with a puzzling beginning and an all too horrible ending, the engaging performances by what was essentially a group of non-professional actors, and a prevading sense of dread and claustrophobia that effectively consumes the narrarive with a certain inevitability which is all the more terrifying because the viewers know what is going on long before the hero[es], with the only question being when are they going to wake up & smell the coffee?<br /><br />Shot on a dental floss budget in Brownrigg's native Texas at an old palatial manor that nicely serves as the setting for a private sanitorium, DON'T LOOK IN THE BASEMENT is another intriguing twist on the good old Edgar Allan Poe tome about inmates taking over the asylum just before an otherwise \"normal\" outsider unwittingly joins the ranks without realizing until it is far too late that not all is what it seems, they are totally cut off & beyond any outside help, and inevitably find their own sanity questioned as the madness spins out of control -- The Original STAR TREK TV series had a go at this with their WHOM GODS DESTROY episode from 1968, Juan Moctezuma gave the proceedings a peyote fueled Mexican psychedelic trip in DR. TARR'S TORTURE DUNGEON in 1972, and tangentially related is Fernando Di Leo's ASYLUM EROTICA/SLAUGHTER HOTEL, which injects the elements of an unknown killer and an ending that can only be defined as \"Splatter Cinema\" -- Brownrigg may not have seen or been thinking of SLAUGHTER HOTEL, but he sure came up with some similar ideas.<br /><br />Legaliciuos former Playboy Playmate Rosie Holotik plays Charlotte Beale, RN in Clinical Psychology, who has just left her nice job as a supervisor at a major hospital to travel way out into the middle of some god forsaken waste right out of a Peckinpah movie to work with a Dr. Stevens at his private sanitorium. Dr. Stevens has pioneered a new form of therapy based upon basically encouraging the emotionally & psychologically scarred to face their inner obsessions, bring them to the surface and hopefully rid the patients of whatever has fried their sense of reasoning. Nice idea, but arming a 6ft 250 pound utterly insane man with an axe and telling him to pound out his aggression AND THEN TURNING YOUR BACK ON HIM probably isn't the smartest idea, and Dr. Stevens is dispatched before Ms. Holotik even appears onscreen with a good whack to the lower portion of his skull.<br /><br />This event leaves the sanitorium effectively in the hands of one Geraldine Masters [actress Annabelle Weenick, who also served as the script supervisor & production manager], a woman of startlingly professional demeanor who quickly defuses the situation with the help of Sam, the film's wonderfully unlikely hero, a lobotomized African American boheomouth played by an actor named Bill McGhee who was sadly robbed of a supporting Oscar nomination for his turn as a mass of muscle with the brain of an 8 year old boy. Sam's one wish is to have someone help him put his prized toy boat \"in the water\", and his continual asking of the various female cast members to do so [and his nonstop consumption of chocolate popsicles] as *SOME* kind of underlying theme, though we will avoid such here because the kids might still be up. There is also a quick subplot about a staff member who has decided to leave after being threatened by one of the patients, but I'll leave the details of that to your discovery.<br /><br />Ms. Holotik arrives just as Dr. Stevens has been effectively laid to rest and is quickly won over by the snappy professionalism of Ms. Masters, who reluctantly allows the leggy young nurse to stay on in spite of the tragedy that has just happened, oh, TWENTY MINUTES AGO, which you must admit was rather sporting of her. Holotik's Nurse Beale begins to demonstrate symptoms of not being the sharpest meat cleaver in the drawer, however, when informed that she shares living quarters with a bunch of maniacs and there are no locks on the doors & doesn't trudge off for the nearest Ace Hardware Store to pick up a hasp and padlock to secure herself, and we are treated to a couple of truly creepy scenes where some of the inmates sneak into her room & do stuff like smell her hair, try to kill her with butcher knives and caress her neck with axe heads. But that's all a part of working in such a radical psychiatric health care environment, Ms. Master's informs her, and she goes about her oddly defined \"rounds\" that consist of wearing as leg defining a nurse outfit as you can find in a 42nd Street fetish boutique and getting to know the inmates.<br /><br />Allysson is a obsessive compulsive nymphomaniac with homicidal tendancies who likes to take off her shirt & provide the film with some T & A between fits of histrionics; Harriet is a young former mother who let her child die in a stupid accident and now dotes on a beat-up old doll that she is also homicidally protective of; The Seargant is an actual seargeant [and implied Vietnam vet] who's negligence led to the death of his platoon, and now watches from the window with binoculars for the approach of an unseen enemy; Jennifer is a Phish fan who couldn't score a ticket to the New Year's Eve Show and went insane & likes to scarf down nembutols and other barbituates when nobody is looking, and likewise has hidden homicidal tendancies linked to her inability to find a bra; Judge Cameron is apparently a homicidal pervert who became obsessed with his own sense of power and now likes to chop things up with axes; Ms. Callingham is an aged poet who serves as a sort of soothsaying old hag from MACBETH before the cat gets her tongue; and Danny is an insane idiot who was included in the cast as the random element that the plot cannot control, and who's antics serve as the real catalyst for the series of tragedies & murders that ultimately take place in this dark, old, creepy house in the middle of nowhere.<br /><br />The house itself is a wonderful set, with a threadbare early 1970's decor that is remarkable in it's unremarkableness, with a fantastic use of color achieved by subtle ambient lighting. The house is a series of hallways and rooms with shiny brown wooden floors, twisting, confined stairways, secreted closets and passageways leading to the different larger areas, and of course the basement mentioned in the title -- visited only once, but boy it sure proves to be a doozy! I love the frosted old freezer where Sam keeps his stash of popsicles, the utterly plain exteriors that remind me of a summer home our family used to visit every year & force us to swelter in the heat: Everyone is covered with beads of persperation and looks exhausted, and even the ever cheerful Sam at one point begins to suspect that bad things are happening, though he cannot understand what it all means and Rosie H. is too firm in her belief of her profession to even suspect what has really happened, and while Ms. Holotik's limitations of an actress may have diminished the effectiveness of her Big Revelation scene, she's a great screamer when all Hell starts to break loose, and Brownrigg indulged of some nice camera shots of her in various suggestive poses or stages of undress that show off what a pretty lady she is without exposing anything more than her contract stipulated. Too bad!<br /><br />The real show stealer is Sam, however, and fans of what I have been taught to refer to as Splatter Cinema will not be disappointed by the rather shocking finale, and there is something moving about how Sam runs to the protection of his friend and brutally kills everyone within arms reach in a matter of seconds that either suggests he was one mean motha before his lobotomy, or the film is CUT. In any event you won't be prepared for the ending the first time you see it, even though you as the viewer know what the score is long before anyone else in the film has put it all together.<br /><br />Except for one person: Rhea MacAdams' uproariously stereotyped old coot Mrs. Callingham [who seems to be inspired by the Donald Sutherland Old Woman character from the Michael Reeves' 1964 Christopher Lee film CASTLE OF THE LIVING DEAD, in addition to a rather nasty death by round spike to the eye], who not only predicts the future, but has the film's most laugh out loud amusing bit of dialogue while on a walk in the garden with Ms. Holotik that runs something like this --<br /><br />\"It's really beautiful out here. Do you get out much, Mrs. Callingham?\" asks Holotik, to which the old woman replies<br /><br />\"It's YOU who needs to get out.\"<br /><br />Hilarious, and one of those things you gotta kind of see for yourself to \"get\". DON'T LOOK IN THE BASEMENT is available on at least a half dozen \"bargain bin\" codefree DVD releases by companies like Brentwood Home Video, Diamond Entertainment, VCI and Platinum Disc Corp.'s HORROR CLASSICS series; I kind of like Alpha Video's sexily gorgeously decorated $6 release from 2003:<br /><br />Dig through those bargain bins! But make sure you get one with the 89/90 minute print contained therein; an older 83 minute version is downright confusing due to some of the trims, and you really need to see the ending credits as intended to bring this sick, twisted and surprisingly entertaining yarn to it's end.<br /><br />Masterpiece? Maybe not compared to THE EXORCIST or ROSEMARY'S BABY, but it is a very uniquely American horror film, and a genuine classic of the drive-in age that deserves to be rediscovered by anyone looking for something made with more than just a little bit of brain juice, and not a penny more than they absolutely needed.<br /><br />***1/2 out of ****\n",
      "**Attention Spoilers**<br /><br />First of all, let me say that Rob Roy is one of the best films of the 90's. It was an amazing achievement for all those involved, especially the acting of Liam Neeson, Jessica Lange, John Hurt, Brian Cox, and Tim Roth. Michael Canton Jones painted a wonderful portrait of the honor and dishonor that men can represent in themselves. But alas...<br /><br />it constantly, and unfairly gets compared to \"Braveheart\". These are two entirely different films, probably only similar in the fact that they are both about Scots in historical Scotland. Yet, this comparison frequently bothers me because it seems to be almost assumed that \"Braveheart\" is a better film than \"Rob Roy\". I like \"Braveheart\" a lot, but the idea of comparing it to \"Rob Roy\" is a little insulting to me. To put quite simply, I love \"Braveheart\", but it is a pale shadow to how much I love \"Rob Roy\". Here are my particular reasons...<br /><br />-\"Rob Roy\" is about real people.<br /><br />Let's face it, the William Wallace in \"Braveheart\" is not a real person. He's a legend, a martyr, a larger than life figurehead. Because of this depiction, he is also a perfect person, never doing wrong, and basically showing his Scot countrymen to the promised land. When he finally does fail, it is not to his fault. Like Jesus, he is betrayed by the very people he trusted most. He even goes through the worst kind of torture because he wants freedom so much.<br /><br />The depiction of Wallace is very well done and effective. But it really doesn't inspire or intrigue me. I find human ambiguity far more facinating than human perfection. That is why \"The Last Temptation of Christ\" is a better film than \"King of Kings\", and that is also one of the reasons why I think \"Rob Roy\" is better than \"Braveheart\". Rob Roy may be heroic and brave, but he is far from perfect. He makes several mistakes that affected the lives of many of his loved ones. Now sure, not bearing false claim against the Duke of Argyll was an act of nobility and courage, but it was also an act of egoism and self centeredness. Let us not forget that the kinfolk that he had claimed to protect were driven homeless by the end of the film because of this act. But Rob did the best he could, and that was all you could ask of him.<br /><br />Rob's Wife Mary, is also a normal, ambigious person. Let us start though, with how she looks in this film. Sure, she's beautiful, but she doesn't wear makeup and she basically allows her natural beauty to show. Compare this with the two loves (or one, depending on your point of view) of William Wallace in \"Braveheart\". Now these two ladies are hot, but hardly indicitive of how women looked at the time (especially the lay persons). Maybe not a fair comparison, but just another example of how Rob Roy's attempts for accuracy are far more effective.<br /><br />Throughout \"Rob Roy\", Mary has to live with her vicious rape by the dastardly carrion, Cunningham. She feels compelled to tell Rob of her struggle, but doesn't because she knows that Rob must seek revenge for her rape. Such revenge would surely mean the death of Rob, and Mary is not prepared for such a sacrifice.<br /><br />The villains in \"Rob Roy\" are equally as compelling. Although the enemies in \"Braveheart\" are well written, they are hardly original. Robert the Bruce, a man both brave and cowardly, is plagued by moral decisions that are all to familar in the fictional realm. Should he take his claim as the king of Scotland, or should he betray Wallace in order to ensure the safety of his family name? Bruce is the most ambigious character in \"Braveheart\", but from Brutus in \"Julius Ceasar\" to Fredo in \"The Godfather Part II\", these types of characters are hardly original. Longshanks, although a compelling villain in his own right, is very one dimensional. He is the epidemy of evil, and his tyrant ways stand in direct contrast to Wallace's heroism.<br /><br />\"Rob Roy\" has three villains that are wonderful in their chicanery. First of all, let's start with Marquis of Montrose. He is a man who is so obsessed with his self image, that he's willing to let an innocent man suffer because of it. \"See to it that I am not mocked\" are his favorite words to his \"factor\". He is a man obsessed with power, upset that a man of great noble bearing as the Duke of Argyll can be considered of greater providency then him. He is shamefully self obsessed and insecure. He is an evil aristocrat, but in ways that make him unique.<br /><br />Cunningham and Callarn are the conspirators in \"Rob Roy\", and are also Roy's direct assailants. Callarn is so cunning in his cowardace that he is almost comical. He will do anything to maintain the good will of the Marquis, which includes backstabbing and trickery. Cunningham is a compelling character in that he seems to have been raised to do whatever he can to obtain status and the affection of the Marquis. He needs a father, little does he know that the Marquis is his real father. Therefore, when the opportunity to obtain wealth comes from Callarn, he grabs it without even questioning it. He is very much like the evil of modern man, so self centered and vain that he cares not about the consequences of his actions on others.<br /><br />Many have criticized Tim Roth's performance in this film as overacting. Hogwash I say. It is clear that Cunningham is not simply evil but also psychopath throughout the film. In a world where a man and his stepson can go around shooting random people for amusement, is Cunningham too much of an unbelievable character? We live in a society where people seem to have decreased the value of human life. \"Rob Roy\" simply teaches us that only the circumstances of this decreased value has changed. It is a problem throughout human history that the vanity of the human heart will not allow for the capacity for compassion. Rob Roy and Mary give us hope that goodness will prevail, but snakes will always exist in our world.<br /><br />Another character that I find fascinating is the Duke of Argyll. He is a true nobleman, and his values of honesty and courtesy are in direct contrast to the Marquis. He appreciates the bravery of Rob Roy and Mary, and has a direct vexation for the Marquis and his factor. He gives the world hope for the people of power. Hopefully, people like the Marquis are an exception and not the rule.<br /><br />- The final duel in \"Rob Roy\" is more exciting then 10 of the battle scenes in \"Braveheart\".<br /><br />One thing I get tired of is people telling me that \"Braveheart\" is a better film because of the battle scenes. First of all, battle scenes are hardly original. From \"Spartacus\" to \"Gladiator\", Hollywood has had a long tradition of historical European battle scenes. \"Braveheart\" has some of the best battle scenes ever put on film, but they suffer from one important problem. These battle scenes have no context except for the fight for freedom.<br /><br />Now, don't get me wrong, duels are hardly original either. In fact, there are probably 10 times as many films with duels as there are with battle scenes. But the context of the duel between Cunningham and Rob Roy is a beauty to behold. It is one of the greatest scenes in film history. Let me explain why...<br /><br />First of all, the fighting style and the bearing of the two characters in this duel describe the characters perfectly. Cunningham is effette and dangerous, Rob Roy is strong and courageous. Cunningham uses a fencing sword while Rob uses a broadsword. Cunningham fights with quick tricky movements, while Roy's fighting style is more obvious.<br /><br />The whole film, from the deliberately slow first half to the exciting second half, is leading up to this moment. It is powerful stuff, and it is clear that Rob must exterminate this menacing evil that has plagued his whole world. When Rob finally gets the upper hand (literally and figuratively,) it is one of the greatest moments in film history. Rob wins because he has more to live for, and his honor is more powerful than 10 Cunningham's. The use of music is absolutely chilling in this scene. Good prevailing against a real evil is more powerful to me than seeing a dude get disemboweled just so he can yell \"FREEDOM!\". But hey, maybe that's just me.<br /><br />- \"Rob Roy\" is more realistic than \"Braveheart\"<br /><br />I don't know that people in the aristocracy or Scotsmen talked like the people in \"Rob Roy\", but I do feel that it clearly an attempt to capture their speech patterns. I feel that many people are bored by \"Rob Roy\" simply because they can't understand what the characters are saying. If this is the case, then read some Shakesphere, or put on the close-captioning. \"Rob Roy\" is actually one of the greatest written films of the 90's. Many of the dialogue in this film is clever, but maybe you have to watch the film a couple of times to understand it.<br /><br />By contrast, the dialogue in \"Braveheart\" is hardly very interesting. Of course, what do you expect when the main character is a Scotsman played by an Australian? This is a legend, and there was clearly not an attempt to capture the speech of the times. This film takes place several centuries before \"Rob Roy\", and yet they talk like the people today. Thus the reason that many people like it better. Audiences today have become increasingly lazy, and they don't want to take the time or patience to understand things that are complex. Therefore, as with many epic films, they expect to see the villians speak a recognizable English accent while the heroes speak in a vernacular not too far away from our American language. Sure, it is clear that the Wallace is Scotish, but other than sounding like Scotty from Star Trek and a couple of \"Aye\"s for acknowledgement, the Scots in this film fit into the Hollywood tradition of how we believe Scots should sound.<br /><br />So, do these descriptions prove that \"Rob Roy\" is a better film than \"Braveheart\"? Hardly. But if it proves one thing, it shows that it is hardly common knowledge that \"Braveheart\" is a better film than \"Rob Roy\". To put simply, \"Rob Roy\" is a film that has themes that are very apropos in today's world. \"Braveheart\" is a film about a legend that is inspiring but hardly realistic. You can make a decision on what you think is better...<br /><br />Grade - A Score - 9\n",
      "(Some spoilers included:)<br /><br />Although, many commentators have called this film surreal, the term fits poorly here. To quote from Encyclopedia Britannica's, surreal means:<br /><br />\"Fantastic or incongruous imagery\": One needn't explain to the unimaginative how many ways a plucky ten-year-old boy at large and seeking his fortune in the driver's seat of a red Mustang could be fantastic: those curious might read James Kincaid; but if you asked said lad how he were incongruous behind the wheel of a sports car, he'd surely protest, \"NO way!\" What fantasies and incongruities the film offers mostly appear within the first fifteen minutes. Thereafter we get more iterations of the same, in an ever-cruder and more squalid progression that, far from incongruous, soon proves predictable. Not that it were, on the other hand, literally believable-- but it were unfair to tax Motorama in particular with this flaw, any plausible suspension of disbelief having fallen precipitously on the typical film-maker's and viewer's scale of values ever since \"Raiders of the Lost Ark\" became a blockbuster.<br /><br />\"Hallucinatory\": How do we know what a hallucination is if part of having one is not knowing that we are having one? At any rate, some people know that they enjoy \"hallucinogenic drugs\"-- but if Motorama typifies the result of doing so, then I'm at a loss as to why anyone would take them more than once. There is, of course, the occasional bad trip. The movie must be one of those, pun and all.<br /><br />\"Juxtaposition of words that was startling\": How many times can a ten-year-old startle you by uttering \"Oh, my God!\" when he likes something, or \"Damn!\" when he doesn't? These two interjections are about par for the course with this script. Sadly, any sense of the surreal in what passes for dialogue could only reveal, in direct proportion, one's naivete regarding the speech patterns of the rising American generation.<br /><br />\"A world completely defined and minutely depicted but that makes no rational sense:\" Motorama's world indeed makes no sense, but it is about as completely defined as a cartoon in an elementary school newspaper. The numerous guest stars in the cast all have cameo roles even less intelligent than our little hero who exclaims \"Damn!\" in the blink of an eyelash but needs several seconds to concoct the lamest lie. And even *his* character, despite appearing in nearly every scene, gets no significant development. Here's scant reward for any viewer who sympathizes, as I must, enough to wish to know him better and understand 'where he's coming from.' One vaguely senses a far better story and protagonist struggling to get out.<br /><br />\"Fully recognizable, realistically painted images are removed from their normal contexts and reassembled within an ambiguous, paradoxical, or shocking framework.\" No, we see a succession of stereotypical and ever more dilapidated billboards, filling stations, greasy-spoon eateries, cheap hotels, and their lowlife habitues along country highways, exactly where they stereotypically belong.<br /><br />\"Largely responsible for perpetuating... the traditional emphasis on content.\" There is little content, moment-to-moment, in Motorama.<br /><br />To sum up: Picture British millionaires dressed as clowns or pirates on the way to a posh costume party, sitting serene and mute as cautious chauffeurs inch their Rolls-Royces like fragile skiffs through a roiling sea of desperate humanity, Chinese who implore them through the windows and smear the glass with blood. Or imagine a stadium full of abandoned antiques, limousines like those above now rusting, and white pianos tinkled by ghosts. Into this detritus wander an exhausted boy and an ailing woman to whom he clings as mother-figure becoming girl-friend, who fall asleep side by side on the grass. He is awakened-- on the Feast of the Transfiguration, \"white and glistering\" day 1945-- by a brilliant flash on the horizon that is not the rising sun. Finding that his consort has become a corpse, he first believes that he has witnessed her soul going up to heaven. Later he explains only a little less innocently, 'I learned a new word today: atom-bomb. It's like God taking a photograph.' Now, *there* are just two samples of cinematic surrealism, surrealism whose ironies ripple out far enough to invade its film's very title: Empire of the Sun. If you seek surreal, *please* don't miss it. Alas, however hard he treads on the accelerator to race his chariot through and beyond the desert, no scenes so exquisitely strange, rich, subtle, or gorgeous await Motorama's poor little Gus in his quest.<br /><br />None of the above necessarily constitutes a thumbs-down on this film. Though somewhat disappointed, I can't dismiss it, in view of the respectability of another genre that it does exemplify-- one influenced, to be sure, by surrealism, but also by expressionism, existentialism, and Franz Kafka's pessimism amidst omnipotent power structures. Let's try on for size: Theater of the Absurd.<br /><br />Turning to E.B.'s article on this style, I am amazed by how, to the extent that Theater of the Absurd is a valid artistic style, the above objections to Motorama vanish like a puff of smoke. I'm tempted to quote the entire text as support of the identification.<br /><br />Theater of the Absurd attempts to show \"that the human situation is essentially absurd, devoid of purpose... humankind is left feeling hopeless, bewildered, and anxious.\": Having instantaneously achieved his purpose of getting away from a depressing home life among bickering parents, Gus finds himself purposeless until he drives past a glittering billboard reading \"Motorama\" and decides to win the lottery that it promises. As others have already revealed, this ambition proves illusory: although the game \"never expires\", the sponsoring corporation has no intention that anyone should ever win, and has ways to trick, confuse, and leave crestfallen any aspirant to the reward. He, like others, is ultimately disappointed in his dream.<br /><br />\"Absurdist playwrights, therefore, did away with most of the logical structure of traditional theatre. There is little dramatic action as conventionally understood; however frantically the characters perform, their busyness serves to underscore the fact that nothing happens to change their existence... a timeless, circular quality emerges.\" \"Language in an absurdist play is full of... repetitions... repeating the obvious until it sounds like nonsense.\" Underneath a sometimes \"dazzling comic surface,\" we find \"an underlying message of metaphysical distress.\" Gus's obsession with a silly game, his inane language, the plot device wherein he divines a bleak future and/or returns to an earlier moment and takes a different but still bleak turn-- so much fits now. While an admirer of the surreal would do better with some films, anyway, of Spielberg, admirers of Motorama as it really is should find fellow-travelers-- not instead but addition-- in the works of Beckett, Ionesco, and Genet.<br /><br />But one can't quite stop here. After his disillusionment with the game, Gus returns to \"Phil\" (i.e., Love), the first attendant he had met and the one person who had treated him decently, although he had also scolded him-- at a service station advertising \"Be full-filled!\". Under Phil's tutelage he learns a life of waiting for cars. We might note here that the absurdist playwright Beckett had entitled his most famous play \"Waiting for Godot,\" and that for Godot we should read \"God.\" God is one of Phil's preoccupations, too. Furthermore, as the indirect result of his previous encounter with Gus, Phil is badly maimed and goes about in a cast with his arms straight out horizontally. In the last scene, Gus, now Phil's protege, says that he wants to hear music. We hear none, but we see Phil wiggling his fingers at the end of his outstretched arm, beckoning Gus closer, and Gus responds. The End.<br /><br />Finally, on to an author whom I happen to be reading currently, the Anglican theologian William Stringfellow. If this rebel-lawyer is not acknowledged as an architect or undergirder of Liberation Theology, which is more a Roman Catholic than an Anglican movement, perhaps he should be. Police brutality and corporate greed are a cliche in cinema and literature, including Motorama, but Stringfellow supports and illuminates such sentiments with impressive warrants from scripture, tradition, and reason.<br /><br />His most significant work is an expose of the earthly activities of those fallen angels whom the Bible refers to as principalities and powers. Principalities, wrote Stringfellow, are behind all of our popular three I's: Images, Institutions, and Ideologies. All of these commend themselves to our worship by making false promises. The more deeply involved with an image, an institution, or an ideology any person becomes, the more his own personhood becomes \"depleted\" and be becomes a slave to them. Promising power, control, and immortality, they inexorably deliver helplessness, chaos, and death. As essentially fallen, defeated powers, they can do no more than that. Yet they beguile humans with that \"dominion over the earth\" promised by God in the book of Genesis, while in fact no one of us controls an image, an institution, or an ideology bent inevitably on its own hegemony and self-preservation. They take on lives of their own. \"Dominion\" happens to be a mistranslation: a more accurate rendering of the Hebrew would be \"stewardship.\" But this is a quibble beside a more fundamental problem: Most of us neglect to notice that God had delegated this power to Adam *before* the fall. We have no reason to assume that we, his descendents, still exercise it now: on the contrary, it should be obvious that demonic forces have stolen it from us.<br /><br />One might add two observations of C.S. Lewis: First, that \"man's conquest of nature\" is a mere illusion, and a ruse to cover the fact that one is really talking about the conquest of some men by other men with nature as the instrument; and secondly, contrary to popular belief, Satan is no kind of good-time Charlie. He may dangle out pleasures at first, but he is very niggardly with them and will withdraw them from any human firmly in his thrall, perhaps leaving his prey sitting in front of the fire feeling miserably sorry for himself and seething with resentment.<br /><br />Now, applying these insights to Motorama, we seem them mirrored remarkably in Gus's experience. He is, if not nice, at least a pretty little boy prior to falling victim to the Motorama game. The first signs advertising it glisten glamorously. The longer he continues, however, and the deeper he journeys towards the sponsoring corporation's headquarters, the more shabby they become. He's lonely, meeting no one else who plays the game. The stations giving out the cards have either fallen into ruins or are staffed by zombies. The people he does meet along the way are more and more ugly, deceitful, and hostile. (The fact that the principalities answer to a common dictator does not mean that they can abide one another). Gus's humanity is leached out of him as he becomes not only totally self-centered and oblivious to the needs of others but partially blinded... disfigured... prematurely aged while infantile in the literal sense of linguistically challenged. Eventually even his precious Mustang is taken from him in a crash, and he must continue in a dead man's wreck. Yet at long last, having done everything he thought was expected, he presents himself to the principality in its proud tower to receive his prize. Using the biblical power to confuse wielded by those who have built such monuments to their own vanity, its agents evade him, disappoint, insult, and finally throw him from the top floor. He FALLS long and hard, landing, finally in a body of water. In other words, in classic symbolism, he DIES. He has met the inevitable bad end of anyone who has put his faith in such a deceiver.<br /><br />But this fate proves to be only a warning look into a mutable future. He repents and returns to Phil, and upon seeing him performs the very first generous, selfless act we have seen from him for almost an hour and a half: noting that Phil is now handicapped and hardly able to insert a hose into a gas tank, he asks, \"Can I help you with that?\" Then, seeing the \"help wanted\" sign, he decides to apply for the job, explaining to the motorist with whom he was hitch-hiking that he reckons he'll get out here, because it doesn't look like too bad a place to work.<br /><br />This interpretation is conjectural, of course, and it may surprise or even outrage the film's \"cult classic\" aficionados who see quite different points in it.<br /><br />If Motorama isn't quite my cup of tea, I'm at least convinced now that it's hardly the worst film ever made.\n",
      "Match 1: Tag Team Table Match Bubba Ray and Spike Dudley vs Eddie Guerrero and Chris Benoit Bubba Ray and Spike Dudley started things off with a Tag Team Table Match against Eddie Guerrero and Chris Benoit. According to the rules of the match, both opponents have to go through tables in order to get the win. Benoit and Guerrero heated up early on by taking turns hammering first Spike and then Bubba Ray. A German suplex by Benoit to Bubba took the wind out of the Dudley brother. Spike tried to help his brother, but the referee restrained him while Benoit and Guerrero ganged up on him in the corner. With Benoit stomping away on Bubba, Guerrero set up a table outside. Spike dashed into the ring and somersaulted over the top rope onto Guerrero on the outside! After recovering and taking care of Spike, Guerrero slipped a table into the ring and helped the Wolverine set it up. The tandem then set up for a double superplex from the middle rope which would have put Bubba through the table, but Spike knocked the table over right before his brother came crashing down! Guerrero and Benoit propped another table in the corner and tried to Irish Whip Spike through it, but Bubba dashed in and blocked his brother. Bubba caught fire and lifted both opponents into back body drops! Bubba slammed Guerrero and Spike stomped on the Wolverine from off the top rope. Bubba held Benoit at bay for Spike to soar into the Wassup! headbutt! Shortly after, Benoit latched Spike in the Crossface, but the match continued even after Spike tapped out. Bubba came to his brother's rescue and managed to sprawl Benoit on a table. Bubba leapt from the middle rope, but Benoit moved and sent Bubba crashing through the wood! But because his opponents didn't force him through the table, Bubba was allowed to stay in the match. The first man was eliminated shortly after, though, as Spike put Eddie through a table with a Dudley Dawg from the ring apron to the outside! Benoit put Spike through a table moments later to even the score. Within seconds, Bubba nailed a Bubba Bomb that put Benoit through a table and gave the Dudleys the win! Winner: Bubba Ray and Spike Dudley<br /><br />Match 2: Cruiserweight Championship Jamie Noble vs Billy Kidman Billy Kidman challenged Jamie Noble, who brought Nidia with him to the ring, for the Cruiserweight Championship. Noble and Kidman locked up and tumbled over the ring, but raced back inside and grappled some more. When Kidman thwarted all Noble's moves, Noble fled outside the ring where Nidia gave him some encouragement. The fight spread outside the ring and Noble threw his girlfriend into the challenger. Kidman tossed Nidia aside but was taken down with a modified arm bar. Noble continued to attack Kidman's injured arm back in the ring. Kidman's injured harm hampered his offense, but he continued to battle hard. Noble tried to put Kidman away with a powerbomb but the challenger countered into a facebuster. Kidman went to finish things with a Shooting Star Press, but Noble broke up the attempt. Kidman went for the Shooting Star Press again, but this time Noble just rolled out of harm's way. Noble flipped Kidman into a power bomb soon after and got the pin to retain his WWE Cruiserweight Championship! Winner: Jamie Noble<br /><br />Match 3: European Championship William Regal vs Jeff Hardy William Regal took on Jeff Hardy next in an attempt to win back the European Championship. Jeff catapulted Regal over the top rope then took him down with a hurracanrana off the ring apron. Back in the ring, Jeff hit the Whisper in the wind to knock Regal for a loop. Jeff went for the Swanton Bomb, but Regal got his knees up to hit Jeff with a devastating shot. Jeff managed to surprise Regal with a quick rollup though and got the pin to keep the European Championship! Regal started bawling at seeing Hardy celebrate on his way back up the ramp. Winner: Jeff Hardy<br /><br />Match 4: Chris Jericho vs John Cena Chris Jericho had promised to end John Cena's career in their match at Vengeance, which came up next. Jericho tried to teach Cena a lesson as their match began by suplexing him to the mat. Jericho continued to knock Cena around the ring until his cockiness got the better of him. While on the top rope, Jericho began to showboat and allowed Cena to grab him for a superplex! Cena followed with a tilt-a-whirl slam but was taken down with a nasty dropkick to the gut. The rookie recovered and hit a belly to belly suplex but couldn't put Y2J away. Jericho launched into the Lionsault but Cena dodged the move. Jericho nailed a bulldog and then connected on the Lionsault, but did not go for the cover. He goaded Cena to his feet so he could put on the Walls of Jericho. Cena had other ideas, reversing the move into a pin attempt and getting the 1-2-3! Jericho went berserk after the match. Winner: John Cena<br /><br />Match 5: Intercontinental Championship RVD vs Brock Lesnar via disqualification The Next Big Thing and Mr. Pay-Per-View tangled with the Intercontinental Championship on the line. Brock grabbed the title from the ref and draped it over his shoulder momentarily while glaring at RVD. Van Dam 's quickness gave Brock fits early on. The big man rolled out of the ring and kicked the steel steps out of frustration. Brock pulled himself together and began to take charge. With Paul Heyman beaming at ringside, Brock slammed RVD to the hard floor outside the ring. From there, Brock began to overpower RVD, throwing him with ease over the top rope. RVD landed painfully on his back, then had to suffer from having his spine cracked against the steel ring steps. The fight returned to the ring with Brock squeezing RVD around the ribs. RVD broke away and soon after leveled Brock with a kick to the temple. RVD followed with the Rolling Thunder but Brock managed to kick out after a two-count. The fight looked like it might be over soon as RVD went for a Five-Star Frog Splash. Brock, though, hoisted Van Dam onto his shoulder and went for the F-5, but RVD whirled Brock into a DDT and followed with the Frog Splash! He went for the pin, but Heyman pulled the ref from the ring! The ref immediately called for a disqualification and soon traded blows with Heyman! After, RVD leapt onto Brock from the top rope and then threatened to hit the Van Terminator! Heyman grabbed RVD's leg and Brock picked up the champ and this time connected with the F-5 onto a steel chair! Winner: RVD<br /><br />Match 6: Booker T vs the Big Show Booker T faced the Big Show one-on-one next. Show withstood Booker T's kicks and punches and slapped Booker into the corner. After being thrown from the ring, Booker picked up a chair at ringside, but Big Show punched it back into Booker's face. Booker tried to get back into the game by choking Show with a camera cable at ringside. Booker smashed a TV monitor from the Spanish announcers' position into Show's skull, then delivered a scissors kick that put both men through the table! Booker crawled back into the ring and Big Show staggered in moments later. Show grabbed Booker's throat but was met by a low blow and a kick to the face. Booker climbed the top rope and nailed a somersaulting leg drop to get the pin! Winner: Booker T<br /><br />Announcement: Triple H entered the ring to a thunderous ovation as fans hoped to learn where The Game would end up competing. Before he could speak, Eric Bishoff stopped The Game to apologize for getting involved in his personal business. If Triple H signed with RAW, Bischoff promised his personal life would never come into play again. Bischoff said he's spent the past two years networking in Hollywood. He said everyone was looking for the next breakout WWE Superstar, and they were all talking about Triple H. Bischoff guaranteed that if Triple H signed with RAW, he'd be getting top opportunities coming his way. Stephanie McMahon stepped out to issue her own pitch. She said that because of her personal history with Triple H, the two of them know each other very well. She said the two of them were once unstoppable and they can be again. Bischoff cut her off and begged her to stop. Stephanie cited that Triple H once told her how Bischoff said Triple H had no talent and no charisma. Bischoff said he was young at the time and didn't know what he had, but he still has a lot more experience that Stephanie. The two continued to bicker back and forth, until Triple H stepped up with his microphone. The Game said it would be easy to say \"screw you\" to either one of them. Triple H went to shake Bischoff's hand, but pulled it away. He said he would rather go with the devil he knows, rather than the one he doesn't know. Before he could go any further, though, Shawn Michaels came out to shake things up. HBK said the last thing he wanted to do was cause any trouble. He didn't want to get involved, but he remembered pledging to bring Triple H to the nWo. HBK said there's nobody in the world that Triple H is better friends with. HBK told his friend to imagine the two back together again, making Bischoff's life a living hell. Triple H said that was a tempting offer. He then turned and hugged HBK, making official his switch to RAW! Triple H and HBK left, and Bischoff gloated over his victory. Bischoff said the difference between the two of them is that he's got testicles and she doesn't. Stephanie whacked Bischoff on the side of the head and left!<br /><br />Match 7: Tag Team Championship Match Christian and Lance Storm vs Hollywood Hogan and Edge The match started with loud \"USA\" chants and with Hogan shoving Christian through the ropes and out of the ring. The Canadians took over from there. But Edge scored a kick to Christian's head and planted a facebuster on Storm to get the tag to Hogan. Hogan began to Hulk up and soon caught Christian with a big boot and a leg drop! Storm broke up the count and Christian tossed Hogan from the ring where Storm superkicked the icon. Edge tagged in soon after and dropped both opponents. He speared both of them into the corner turnbuckles, but missed a spear on Strom and hit the ref hard instead. Edge nailed a DDT, but the ref was down and could not count. Test raced down and took down Hogan then leveled Edge with a boot. Storm tried to get the pin, but Edge kicked out after two. Riksihi sprinted in to fend off Test, allowing Edge to recover and spear Storm. Christian distracted the ref, though, and Y2J dashed in and clocked Edge with the Tag Team Championship! Storm rolled over and got the pinfall to win the title! Winners and New Tag Team Champions: Christian and Lance Storm<br /><br />Match 8: WWE Undisputed Championship Triple Threat Match. The Rock vs Kurt Angle and the Undertaker Three of WWE's most successful superstars lined up against each other in a Triple Threat Match with the Undisputed Championship hanging in the balance. Taker and The Rock got face to face with Kurt Angle begging for some attention off to the side. He got attention in the form of a beat down form the two other men. Soon after, Taker spilled out of the ring and The Rock brawled with Angle. Angle gave a series of suplexes that took down Rock, but the Great One countered with a DDT that managed a two-count. The fight continued outside the ring with Taker coming to life and clotheslining Angle and repeatedly smacking The Rock. Taker and Rock got into it back into the ring, and Taker dropped The Rock with a sidewalk slam to get a two-count. Rock rebounded, grabbed Taker by the throat and chokeslammed him! Angle broke up the pin attempt that likely would have given The Rock the title. The Rock retaliated by latching on the ankle lock to Kurt Angle. Angle reversed the move and Rock Bottomed the People's Champion. Soon after, The Rock disposed of Angle and hit the People's Elbow on the Undertaker. Angle tried to take advantage by disabling the Great One outside the ring and covering Taker, who kicked out after a two count. Outside the ring, Rock took a big swig from a nearby water bottle and spewed the liquid into Taker's face to blind the champion. Taker didn't stay disabled for long, and managed to overpower Rock and turn his attention to Angle. Taker landed a guillotine leg drop onto Angle, laying on the ring apron. The Rock picked himself up just in time to break up a pin attempt on Kurt Angle. Taker nailed Rock with a DDT and set him up for a chokeslam. ANgle tried sneaking up with a steel chair, but Taker caught on to that tomfoolery and smacked it out of his hands. The referee got caught in the ensuing fire and didn't see Angle knock Taker silly with a steel chair. Angle went to cover Taker as The Rock lay prone, but the Dead Man somehow got his shoulder up. Angle tried to pin Rock, but he too kicked out. The Rock got up and landed Angle in the sharpshooter! Angle looked like he was about to tap, but Taker kicked The Rock out of the submission hold. Taker picked Rock up and crashed him with the Last Ride. While the Dead Man covered him for the win, Angle raced in and picked Taker up in the ankle lock! Taker went delirious with pain, but managed to counter. He picked Angle up for the last ride, but Angle put on a triangle choke! It looked like Taker was about to pass out, but The Rock broke Angle's hold only to find himself caught in the ankle lock. Rock got out of the hold and watched Taker chokeslam Angle. Rocky hit the Rock Bottom, but Taker refused to go down and kicked out. Angle whirled Taker up into the Angle Slam but was Rock Bottomed by the Great One and pinned! Winner and New WWE Champion: The Rock<br /><br />~Finally there is a decent PPV! Lately the PPV weren't very good, but this one was a winner. I give this PPV a A-<br /><br />\n"
     ]
    }
   ],
   "source": [
    "big=df['review'][0]\n",
    "for i in df['review']:\n",
    " if len(i)> len(big):\n",
    "    big=i\n",
    "    print(big)"
   ]
  },
  {
   "cell_type": "code",
   "execution_count": 18,
   "metadata": {},
   "outputs": [],
   "source": [
    "small=df['review'][0]\n",
    "for i in df['review']:\n",
    " if len(i)> len(big):\n",
    "    big=i\n",
    "    print(small)"
   ]
  },
  {
   "cell_type": "code",
   "execution_count": 19,
   "metadata": {},
   "outputs": [
    {
     "name": "stdout",
     "output_type": "stream",
     "text": [
      "The smallest review is at index 27521\n"
     ]
    }
   ],
   "source": [
    "for i in range(len(df['review'])):\n",
    "  if df[\"review\"][i] == \"Read the book, forget the movie!\":\n",
    "    print('The smallest review is at index',i)"
   ]
  },
  {
   "cell_type": "code",
   "execution_count": 20,
   "metadata": {},
   "outputs": [
    {
     "data": {
      "text/html": [
       "<div>\n",
       "<style scoped>\n",
       "    .dataframe tbody tr th:only-of-type {\n",
       "        vertical-align: middle;\n",
       "    }\n",
       "\n",
       "    .dataframe tbody tr th {\n",
       "        vertical-align: top;\n",
       "    }\n",
       "\n",
       "    .dataframe thead th {\n",
       "        text-align: right;\n",
       "    }\n",
       "</style>\n",
       "<table border=\"1\" class=\"dataframe\">\n",
       "  <thead>\n",
       "    <tr style=\"text-align: right;\">\n",
       "      <th></th>\n",
       "      <th>review</th>\n",
       "      <th>sentiment</th>\n",
       "    </tr>\n",
       "  </thead>\n",
       "  <tbody>\n",
       "    <tr>\n",
       "      <th>0</th>\n",
       "      <td>One of the other reviewers has mentioned that ...</td>\n",
       "      <td>1</td>\n",
       "    </tr>\n",
       "    <tr>\n",
       "      <th>1</th>\n",
       "      <td>A wonderful little production. &lt;br /&gt;&lt;br /&gt;The...</td>\n",
       "      <td>1</td>\n",
       "    </tr>\n",
       "    <tr>\n",
       "      <th>2</th>\n",
       "      <td>I thought this was a wonderful way to spend ti...</td>\n",
       "      <td>1</td>\n",
       "    </tr>\n",
       "    <tr>\n",
       "      <th>3</th>\n",
       "      <td>Basically there's a family where a little boy ...</td>\n",
       "      <td>1</td>\n",
       "    </tr>\n",
       "    <tr>\n",
       "      <th>4</th>\n",
       "      <td>Petter Mattei's \"Love in the Time of Money\" is...</td>\n",
       "      <td>1</td>\n",
       "    </tr>\n",
       "  </tbody>\n",
       "</table>\n",
       "</div>"
      ],
      "text/plain": [
       "                                              review  sentiment\n",
       "0  One of the other reviewers has mentioned that ...          1\n",
       "1  A wonderful little production. <br /><br />The...          1\n",
       "2  I thought this was a wonderful way to spend ti...          1\n",
       "3  Basically there's a family where a little boy ...          1\n",
       "4  Petter Mattei's \"Love in the Time of Money\" is...          1"
      ]
     },
     "execution_count": 20,
     "metadata": {},
     "output_type": "execute_result"
    }
   ],
   "source": [
    "df.head(5)"
   ]
  },
  {
   "attachments": {},
   "cell_type": "markdown",
   "metadata": {},
   "source": [
    "##### NLP"
   ]
  },
  {
   "cell_type": "code",
   "execution_count": 21,
   "metadata": {},
   "outputs": [],
   "source": [
    "from tensorflow import  keras\n",
    "from keras.preprocessing.text import Tokenizer"
   ]
  },
  {
   "cell_type": "code",
   "execution_count": 22,
   "metadata": {},
   "outputs": [],
   "source": [
    "x=df['review']\n",
    "y=df['sentiment']"
   ]
  },
  {
   "cell_type": "code",
   "execution_count": 23,
   "metadata": {},
   "outputs": [
    {
     "data": {
      "text/plain": [
       "'A wonderful little production. <br /><br />The filming technique is very unassuming- very old-time-BBC fashion and gives a comforting, and sometimes discomforting, sense of realism to the entire piece. <br /><br />The actors are extremely well chosen- Michael Sheen not only \"has got all the polari\" but he has all the voices down pat too! You can truly see the seamless editing guided by the references to Williams\\' diary entries, not only is it well worth the watching but it is a terrificly written and performed piece. A masterful production about one of the great master\\'s of comedy and his life. <br /><br />The realism really comes home with the little things: the fantasy of the guard which, rather than use the traditional \\'dream\\' techniques remains solid then disappears. It plays on our knowledge and our senses, particularly with the scenes concerning Orton and Halliwell and the sets (particularly of their flat with Halliwell\\'s murals decorating every surface) are terribly well done.'"
      ]
     },
     "execution_count": 23,
     "metadata": {},
     "output_type": "execute_result"
    }
   ],
   "source": [
    "tokenizer=Tokenizer(1000, lower=True)\n",
    "tokenizer.fit_on_texts(x)\n",
    "x[1]"
   ]
  },
  {
   "cell_type": "code",
   "execution_count": 24,
   "metadata": {},
   "outputs": [
    {
     "data": {
      "text/plain": [
       "[3,\n",
       " 393,\n",
       " 120,\n",
       " 353,\n",
       " 7,\n",
       " 7,\n",
       " 1,\n",
       " 6,\n",
       " 52,\n",
       " 52,\n",
       " 155,\n",
       " 55,\n",
       " 2,\n",
       " 411,\n",
       " 3,\n",
       " 2,\n",
       " 530,\n",
       " 282,\n",
       " 4,\n",
       " 5,\n",
       " 1,\n",
       " 438,\n",
       " 412,\n",
       " 7,\n",
       " 7,\n",
       " 1,\n",
       " 150,\n",
       " 23,\n",
       " 568,\n",
       " 69,\n",
       " 498,\n",
       " 21,\n",
       " 61,\n",
       " 45,\n",
       " 189,\n",
       " 29,\n",
       " 1,\n",
       " 18,\n",
       " 28,\n",
       " 45,\n",
       " 29,\n",
       " 1,\n",
       " 175,\n",
       " 96,\n",
       " 22,\n",
       " 67,\n",
       " 371,\n",
       " 63,\n",
       " 1,\n",
       " 791,\n",
       " 31,\n",
       " 1,\n",
       " 5,\n",
       " 21,\n",
       " 61,\n",
       " 6,\n",
       " 9,\n",
       " 69,\n",
       " 278,\n",
       " 1,\n",
       " 147,\n",
       " 18,\n",
       " 9,\n",
       " 6,\n",
       " 3,\n",
       " 407,\n",
       " 2,\n",
       " 412,\n",
       " 3,\n",
       " 353,\n",
       " 42,\n",
       " 27,\n",
       " 4,\n",
       " 1,\n",
       " 78,\n",
       " 4,\n",
       " 202,\n",
       " 2,\n",
       " 24,\n",
       " 114,\n",
       " 7,\n",
       " 7,\n",
       " 1,\n",
       " 62,\n",
       " 270,\n",
       " 344,\n",
       " 16,\n",
       " 1,\n",
       " 120,\n",
       " 177,\n",
       " 1,\n",
       " 4,\n",
       " 1,\n",
       " 60,\n",
       " 248,\n",
       " 71,\n",
       " 356,\n",
       " 1,\n",
       " 91,\n",
       " 9,\n",
       " 297,\n",
       " 20,\n",
       " 260,\n",
       " 2,\n",
       " 260,\n",
       " 583,\n",
       " 16,\n",
       " 1,\n",
       " 134,\n",
       " 2,\n",
       " 2,\n",
       " 1,\n",
       " 730,\n",
       " 583,\n",
       " 4,\n",
       " 65,\n",
       " 16,\n",
       " 170,\n",
       " 23,\n",
       " 69,\n",
       " 221]"
      ]
     },
     "execution_count": 24,
     "metadata": {},
     "output_type": "execute_result"
    }
   ],
   "source": [
    "sequence=tokenizer.texts_to_sequences(x)\n",
    "sequence[1]"
   ]
  },
  {
   "cell_type": "code",
   "execution_count": 25,
   "metadata": {},
   "outputs": [],
   "source": [
    "from tensorflow.keras.preprocessing.sequence import pad_sequences"
   ]
  },
  {
   "cell_type": "code",
   "execution_count": 26,
   "metadata": {},
   "outputs": [
    {
     "data": {
      "text/plain": [
       "array([  0,   0,   0,   0,   0,   0,   0,   0,   0,   0,   0,   0,   0,\n",
       "         0,   0,   0,   0,   0,   0,   0,   0,   0,   0,   0,   0,   0,\n",
       "         0,   0,   0,   0,   0,   0,   0,   0,   0,   0,   0,   0,   0,\n",
       "         0,   0,   0,   0,   0,   0,   0,   0,   0,   0,   0,   0,   0,\n",
       "         0,   0,   0,   0,   0,   0,   0,   0,   0,   0,   0,   0,   0,\n",
       "         0,   0,   0,   0,   0,   0,   0,   0,   0,   0,   0,   0,   0,\n",
       "         0,   3, 393, 120, 353,   7,   7,   1,   6,  52,  52, 155,  55,\n",
       "         2, 411,   3,   2, 530, 282,   4,   5,   1, 438, 412,   7,   7,\n",
       "         1, 150,  23, 568,  69, 498,  21,  61,  45, 189,  29,   1,  18,\n",
       "        28,  45,  29,   1, 175,  96,  22,  67, 371,  63,   1, 791,  31,\n",
       "         1,   5,  21,  61,   6,   9,  69, 278,   1, 147,  18,   9,   6,\n",
       "         3, 407,   2, 412,   3, 353,  42,  27,   4,   1,  78,   4, 202,\n",
       "         2,  24, 114,   7,   7,   1,  62, 270, 344,  16,   1, 120, 177,\n",
       "         1,   4,   1,  60, 248,  71, 356,   1,  91,   9, 297,  20, 260,\n",
       "         2, 260, 583,  16,   1, 134,   2,   2,   1, 730, 583,   4,  65,\n",
       "        16, 170,  23,  69, 221])"
      ]
     },
     "execution_count": 26,
     "metadata": {},
     "output_type": "execute_result"
    }
   ],
   "source": [
    "encoded_sequence = pad_sequences(sequence,maxlen=200,padding='pre')\n",
    "encoded_sequence[1]"
   ]
  },
  {
   "cell_type": "code",
   "execution_count": 27,
   "metadata": {},
   "outputs": [
    {
     "data": {
      "text/plain": [
       "array([1, 1, 1, ..., 1, 1, 1], dtype=int64)"
      ]
     },
     "execution_count": 27,
     "metadata": {},
     "output_type": "execute_result"
    }
   ],
   "source": [
    "final_input=encoded_sequence\n",
    "final_output=np.array(y)\n",
    "final_output"
   ]
  },
  {
   "cell_type": "code",
   "execution_count": null,
   "metadata": {},
   "outputs": [],
   "source": []
  },
  {
   "cell_type": "code",
   "execution_count": 28,
   "metadata": {},
   "outputs": [],
   "source": [
    "from sklearn.model_selection import  train_test_split\n",
    "x_test, x_train ,y_test, y_train =train_test_split(final_input, final_output, test_size=0.33, random_state=42)"
   ]
  },
  {
   "cell_type": "code",
   "execution_count": 29,
   "metadata": {},
   "outputs": [],
   "source": [
    "from keras.models import Sequential\n",
    "from keras.layers import LSTM,Bidirectional,Dropout,Dense,Embedding\n"
   ]
  },
  {
   "cell_type": "code",
   "execution_count": 30,
   "metadata": {},
   "outputs": [],
   "source": [
    "model =Sequential()\n",
    "model.add(\n",
    "    Embedding(\n",
    "      input_dim=10000,\n",
    "        output_dim=120,\n",
    "        input_length=200,\n",
    "    ),)\n",
    " "
   ]
  },
  {
   "cell_type": "code",
   "execution_count": 31,
   "metadata": {},
   "outputs": [],
   "source": [
    "model.add(\n",
    "    Bidirectional(LSTM(64, return_sequences=True))\n",
    ")\n",
    "model.add(Bidirectional(LSTM(32)))"
   ]
  },
  {
   "cell_type": "code",
   "execution_count": 32,
   "metadata": {},
   "outputs": [
    {
     "name": "stdout",
     "output_type": "stream",
     "text": [
      "Model: \"sequential\"\n",
      "_________________________________________________________________\n",
      " Layer (type)                Output Shape              Param #   \n",
      "=================================================================\n",
      " embedding (Embedding)       (None, 200, 120)          1200000   \n",
      "                                                                 \n",
      " bidirectional (Bidirectiona  (None, 200, 128)         94720     \n",
      " l)                                                              \n",
      "                                                                 \n",
      " bidirectional_1 (Bidirectio  (None, 64)               41216     \n",
      " nal)                                                            \n",
      "                                                                 \n",
      " dense (Dense)               (None, 1)                 65        \n",
      "                                                                 \n",
      "=================================================================\n",
      "Total params: 1,336,001\n",
      "Trainable params: 1,336,001\n",
      "Non-trainable params: 0\n",
      "_________________________________________________________________\n",
      "Epoch 1/2\n",
      "516/516 [==============================] - 210s 396ms/step - loss: 0.0371 - accuracy: 0.9833 - val_loss: 0.0000e+00 - val_accuracy: 1.0000\n",
      "Epoch 2/2\n",
      "516/516 [==============================] - 181s 351ms/step - loss: 0.0000e+00 - accuracy: 1.0000 - val_loss: 0.0000e+00 - val_accuracy: 1.0000\n"
     ]
    }
   ],
   "source": [
    "model.add(Dense(1))\n",
    "\n",
    "model.summary()\n",
    "model.compile(optimizer='adam',loss='binary_crossentropy',metrics=['accuracy'])\n",
    "\n",
    "prediction = model.fit(x_train,y_train,validation_data=(x_test,y_test),epochs=2,batch_size=32)\n",
    "\n"
   ]
  },
  {
   "cell_type": "code",
   "execution_count": 33,
   "metadata": {},
   "outputs": [
    {
     "data": {
      "image/png": "[encoded data removed]",
      "text/plain": [
       "<Figure size 640x480 with 1 Axes>"
      ]
     },
     "metadata": {},
     "output_type": "display_data"
    }
   ],
   "source": [
    "plt.plot(prediction.history['loss'],label='train')\n",
    "plt.plot(prediction.history['val_loss'],label='validation')\n",
    "plt.legend(loc='best')\n",
    "plt.show()\n"
   ]
  },
  {
   "cell_type": "code",
   "execution_count": 34,
   "metadata": {},
   "outputs": [
    {
     "data": {
      "image/png": "[encoded data removed]",
      "text/plain": [
       "<Figure size 640x480 with 1 Axes>"
      ]
     },
     "metadata": {},
     "output_type": "display_data"
    }
   ],
   "source": [
    "plt.plot(prediction.history['accuracy'],label='train')\n",
    "plt.plot(prediction.history['val_accuracy'],label='validation')\n",
    "plt.legend(loc='best')\n",
    "plt.show()\n",
    "\n",
    "model.save(\"imdb review.h5\")\n"
   ]
  },
  {
   "cell_type": "code",
   "execution_count": 41,
   "metadata": {},
   "outputs": [
    {
     "name": "stdout",
     "output_type": "stream",
     "text": [
      "1/1 [==============================] - 0s 35ms/step\n",
      "The reviews are good you should watch this\n",
      "1/1 [==============================] - 0s 33ms/step\n",
      "The reviews are good you should watch this\n",
      "1/1 [==============================] - 0s 33ms/step\n",
      "The reviews are good you should watch this\n"
     ]
    }
   ],
   "source": [
    "def imdb_bot(review):\n",
    "    statement_list=[]\n",
    "    statement_list.append(review)\n",
    "    sequence=tokenizer.texts_to_sequences(statement_list)\n",
    "    input=pad_sequences(sequence,maxlen=200, padding='pre')\n",
    "    output= model.predict(input)\n",
    "    if output.all() == 1:\n",
    "        print(\"The reviews are good you should watch this\")\n",
    "    else:\n",
    "        print(\"The reviews are not quite good you should try another one\")\n",
    "\n",
    "imdb_bot(\"tees maar khan\")\n",
    "\n",
    "imdb_bot(\"All salman khan movies\")\n",
    "\n",
    "imdb_bot(\"justice leauge dark appokalips war\")"
   ]
  }
 ],
 "metadata": {
  "kernelspec": {
   "display_name": "Python 3",
   "language": "python",
   "name": "python3"
  },
  "language_info": {
   "codemirror_mode": {
    "name": "ipython",
    "version": 3
   },
   "file_extension": ".py",
   "mimetype": "text/x-python",
   "name": "python",
   "nbconvert_exporter": "python",
   "pygments_lexer": "ipython3",
   "version": "3.10.9"
  },
  "orig_nbformat": 4,
  "vscode": {
   "interpreter": {
    "hash": "26de051ba29f2982a8de78e945f0abaf191376122a1563185a90213a26c5da77"
   }
  }
 },
 "nbformat": 4,
 "nbformat_minor": 2
}
